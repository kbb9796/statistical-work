{
 "cells": [
  {
   "cell_type": "code",
   "execution_count": 3,
   "metadata": {},
   "outputs": [],
   "source": [
    "# Import packages\n",
    "\n",
    "import numpy as np\n",
    "import random\n",
    "import matplotlib.pyplot as plt\n",
    "from array2gif import write_gif\n",
    "from tqdm import tqdm"
   ]
  },
  {
   "cell_type": "code",
   "execution_count": 22,
   "metadata": {},
   "outputs": [],
   "source": [
    "# Create initial lattice to start\n",
    "\n",
    "def create_random_lattice(rows, cols, prob = .5):\n",
    "\n",
    "    n_trials = 1\n",
    "    lattice = np.random.binomial(n_trials, prob, [rows, cols])\n",
    "    lattice_idxs = np.where(lattice == 0)\n",
    "    lattice[lattice_idxs] = -1\n",
    "\n",
    "    return lattice\n",
    "\n",
    "# Compute the probability (up to a normalizing constant) of the configuration\n",
    "\n",
    "def compute_hamiltonian(lattice, J):\n",
    "\n",
    "    num_rows = np.shape(lattice)[0]\n",
    "    num_cols = np.shape(lattice)[1]\n",
    "    hamiltonian = 0\n",
    "\n",
    "    for ii_row in range(np.shape(lattice)[0]):\n",
    "\n",
    "        for jj_col in range(np.shape(lattice)[1]):\n",
    "\n",
    "            # Only count neighbors down and to the right to avoid double counting \n",
    "            # Periodic boundary conditions\n",
    "            \n",
    "            current_spin = lattice[ii_row, jj_col]\n",
    "            hamiltonian += current_spin * lattice[(ii_row + 1) % num_rows, jj_col] + \\\n",
    "                current_spin * lattice[ii_row, (jj_col + 1) % num_cols]\n",
    "\n",
    "    return -J * hamiltonian\n",
    "\n",
    "def compute_unnormalized_prob(lattice, beta, J):\n",
    "\n",
    "    return np.exp(-beta * compute_hamiltonian(lattice, J))\n",
    "\n",
    "def propose_lattice(lattice):\n",
    "\n",
    "    num_rows = np.shape(lattice)[0]\n",
    "    num_cols = np.shape(lattice)[1]\n",
    "    rnd_row = random.sample(list(range(num_rows)), 1)\n",
    "    rnd_col = random.sample(list(range(num_cols)), 1)\n",
    "    new_lattice = lattice\n",
    "    new_lattice[rnd_row, rnd_col] = -1 * new_lattice[rnd_row, rnd_col]\n",
    "\n",
    "    return new_lattice\n",
    "\n",
    "def metropolis_sampling(lattice, num_iterations, J, beta):\n",
    "\n",
    "    with tqdm(total = num_iterations) as pbar:\n",
    "\n",
    "        sample = np.zeros([np.shape(lattice)[0], np.shape(lattice)[1], num_iterations])\n",
    "\n",
    "        for ii_iteration in range(num_iterations):\n",
    "            \n",
    "            current_prob = compute_unnormalized_prob(lattice, beta, J)\n",
    "            candidate_lattice = propose_lattice(lattice)\n",
    "            candidate_prob = compute_unnormalized_prob(candidate_lattice, beta, J)\n",
    "            acceptance_prob = np.min([1, candidate_prob / current_prob])\n",
    "\n",
    "            if random.uniform(0, 1) < acceptance_prob:\n",
    "\n",
    "                lattice = candidate_lattice\n",
    "\n",
    "            sample[:, :, ii_iteration] = lattice\n",
    "            pbar.update(1)\n",
    "    \n",
    "    return sample\n",
    "\n",
    "# Write function that creates gif from the sample\n",
    "\n",
    "def create_image(lattice):\n",
    "\n",
    "    num_rows = np.shape(lattice)[0]\n",
    "    num_cols = np.shape(lattice)[1]\n",
    "    # Turn lattice into image with RGB triplet along third dimension\n",
    "    image = np.zeros([num_rows, num_cols, 3])\n",
    "    image[lattice == 1] = [0, 0, 0]\n",
    "    image[lattice == -1] = [255, 255, 255]\n",
    "\n",
    "    return image\n",
    "        \n"
   ]
  },
  {
   "cell_type": "code",
   "execution_count": 55,
   "metadata": {},
   "outputs": [
    {
     "name": "stderr",
     "output_type": "stream",
     "text": [
      "  0%|          | 0/10000 [00:00<?, ?it/s]"
     ]
    },
    {
     "name": "stdout",
     "output_type": "stream",
     "text": [
      "Metropolis sampling\n"
     ]
    },
    {
     "name": "stderr",
     "output_type": "stream",
     "text": [
      "<ipython-input-22-df142bde1e01>:35: RuntimeWarning: overflow encountered in exp\n",
      "  return np.exp(-beta * compute_hamiltonian(lattice, J))\n",
      "<ipython-input-22-df142bde1e01>:59: RuntimeWarning: invalid value encountered in double_scalars\n",
      "  acceptance_prob = np.min([1, candidate_prob / current_prob])\n",
      " 88%|████████▊ | 8849/10000 [08:57<01:25, 13.40it/s]<ipython-input-22-df142bde1e01>:59: RuntimeWarning: divide by zero encountered in double_scalars\n",
      "  acceptance_prob = np.min([1, candidate_prob / current_prob])\n",
      "100%|██████████| 10000/10000 [10:24<00:00, 16.00it/s]\n"
     ]
    }
   ],
   "source": [
    "num_rows = 200\n",
    "num_cols = 200\n",
    "initial_lattice = create_random_lattice(num_rows, num_cols)\n",
    "num_iterations = 10000\n",
    "J = 1\n",
    "beta = 10\n",
    "print('Metropolis sampling')\n",
    "sample = metropolis_sampling(initial_lattice, num_iterations, J, beta)"
   ]
  },
  {
   "cell_type": "code",
   "execution_count": 54,
   "metadata": {},
   "outputs": [
    {
     "name": "stdout",
     "output_type": "stream",
     "text": [
      "Writing samples to gif\n"
     ]
    }
   ],
   "source": [
    "frequency = 5\n",
    "dataset_for_gif = []\n",
    "\n",
    "for ii_lattice in range(int(num_iterations / frequency)):\n",
    "\n",
    "    dataset_for_gif.append(np.array(create_image(sample[:, :, ii_lattice * frequency])))\n",
    "\n",
    "print('Writing samples to gif')\n",
    "write_gif(dataset_for_gif, 'ising_model.gif', fps = 40)"
   ]
  }
 ],
 "metadata": {
  "kernelspec": {
   "display_name": "Python 3",
   "language": "python",
   "name": "python3"
  },
  "language_info": {
   "codemirror_mode": {
    "name": "ipython",
    "version": 3
   },
   "file_extension": ".py",
   "mimetype": "text/x-python",
   "name": "python",
   "nbconvert_exporter": "python",
   "pygments_lexer": "ipython3",
   "version": "3.8.8"
  }
 },
 "nbformat": 4,
 "nbformat_minor": 2
}
