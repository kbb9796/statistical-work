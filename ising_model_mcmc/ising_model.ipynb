{
 "cells": [
  {
   "cell_type": "code",
   "execution_count": 1,
   "metadata": {},
   "outputs": [],
   "source": [
    "# Import packages\n",
    "\n",
    "import numpy as np\n",
    "import random\n",
    "import matplotlib.pyplot as plt\n",
    "from array2gif import write_gif\n",
    "from tqdm import tqdm"
   ]
  },
  {
   "cell_type": "code",
   "execution_count": 123,
   "metadata": {},
   "outputs": [],
   "source": [
    "# Create initial lattice to start\n",
    "\n",
    "def create_random_lattice(rows, cols, prob = .5):\n",
    "\n",
    "    n_trials = 1\n",
    "    lattice = np.random.binomial(n_trials, prob, [rows, cols])\n",
    "    lattice_idxs = np.where(lattice == 0)\n",
    "    lattice[lattice_idxs] = -1\n",
    "\n",
    "    return lattice\n",
    "\n",
    "# Compute the probability (up to a normalizing constant) of the configuration\n",
    "\n",
    "def compute_hamiltonian(lattice):\n",
    "\n",
    "    num_rows = np.shape(lattice)[0]\n",
    "    num_cols = np.shape(lattice)[1]\n",
    "    hamiltonian = 0\n",
    "\n",
    "    for ii_row in range(np.shape(lattice)[0]):\n",
    "\n",
    "        for jj_col in range(np.shape(lattice)[1]):\n",
    "\n",
    "            # Only count neighbors down and to the right to avoid double counting \n",
    "            # Periodic boundary conditions\n",
    "            current_spin = lattice[ii_row, jj_col]\n",
    "            hamiltonian += current_spin * (lattice[(ii_row + 1) % num_rows, jj_col] + lattice[ii_row, (jj_col + 1) % num_cols])\n",
    "\n",
    "    return -hamiltonian\n",
    "\n",
    "def compute_unnormalized_prob(lattice, J_over_kT):\n",
    "\n",
    "    return np.exp(-J_over_kT * compute_hamiltonian(lattice))\n",
    "\n",
    "def propose_lattice(lattice):\n",
    "\n",
    "    num_rows = np.shape(lattice)[0]\n",
    "    num_cols = np.shape(lattice)[1]\n",
    "    rnd_row = random.sample(list(range(num_rows)), 1)\n",
    "    rnd_col = random.sample(list(range(num_cols)), 1)\n",
    "    new_lattice = np.copy(lattice)\n",
    "    new_lattice[rnd_row, rnd_col] = -1 * new_lattice[rnd_row, rnd_col] \n",
    "\n",
    "    return new_lattice\n",
    "\n",
    "def metropolis_sampling(lattice, num_iterations, J_over_kT):\n",
    "\n",
    "    u = np.random.uniform(0, 1, num_iterations)\n",
    "\n",
    "    with tqdm(total = num_iterations) as pbar:\n",
    "\n",
    "        sample = np.zeros([np.shape(lattice)[0], np.shape(lattice)[1], num_iterations])\n",
    "\n",
    "        for ii_iteration in range(num_iterations):\n",
    "            \n",
    "            candidate_lattice = propose_lattice(lattice)\n",
    "            acceptance_prob = np.min([1, np.exp(-J_over_kT * (compute_hamiltonian(candidate_lattice) \\\n",
    "                                                         - compute_hamiltonian(lattice)))])\n",
    "\n",
    "            if u[ii_iteration] < acceptance_prob:\n",
    "\n",
    "                lattice = candidate_lattice\n",
    "\n",
    "            sample[:, :, ii_iteration] = lattice\n",
    "            pbar.update(1)\n",
    "    \n",
    "    return sample\n",
    "\n",
    "# Write function that creates gif from the sample\n",
    "\n",
    "def create_image(lattice):\n",
    "\n",
    "    num_rows = np.shape(lattice)[0]\n",
    "    num_cols = np.shape(lattice)[1]\n",
    "    # Turn lattice into image with RGB triplet along third dimension\n",
    "    image = np.zeros([num_rows, num_cols, 3])\n",
    "    image[lattice == 1] = [0, 0, 0]\n",
    "    image[lattice == -1] = [255, 255, 255]\n",
    "\n",
    "    return image\n",
    "\n",
    "# Create specific heat function and plot as function of temperature\n",
    "\n",
    "def compute_specific_heat(samples):\n",
    "\n",
    "    specific_heat = [np.var(samples[key]) / (float(key) ** 2) for key in samples.keys()]\n",
    "\n",
    "    return specific_heat\n",
    "\n",
    "# Create magnetism function that calculates magnetism as function of temperature\n",
    "\n",
    "def compute_magnetism(samples):\n",
    "\n",
    "    magnetism = [np.mean(np.ravel(samples[key])) for key in samples.keys()]\n",
    "\n",
    "    return magnetism\n",
    "        \n"
   ]
  },
  {
   "cell_type": "code",
   "execution_count": 134,
   "metadata": {},
   "outputs": [
    {
     "name": "stderr",
     "output_type": "stream",
     "text": [
      "  0%|          | 3/50000 [00:00<35:15, 23.63it/s]"
     ]
    },
    {
     "name": "stdout",
     "output_type": "stream",
     "text": [
      "Metropolis sampling\n"
     ]
    },
    {
     "name": "stderr",
     "output_type": "stream",
     "text": [
      "100%|██████████| 50000/50000 [18:02<00:00, 46.18it/s]  \n"
     ]
    },
    {
     "name": "stdout",
     "output_type": "stream",
     "text": [
      "Writing samples to gif\n"
     ]
    }
   ],
   "source": [
    "num_rows = 100\n",
    "num_cols = 100\n",
    "initial_lattice = create_random_lattice(num_rows, num_cols)\n",
    "num_iterations = 50000\n",
    "J_over_kT = 10\n",
    "print('Metropolis sampling')\n",
    "sample = metropolis_sampling(initial_lattice, num_iterations, J_over_kT)\n",
    "\n",
    "# Make sure gif happens fast enough\n",
    "\n",
    "frequency = 200\n",
    "dataset_for_gif = []\n",
    "\n",
    "for ii_lattice in range(int(num_iterations / frequency)):\n",
    "\n",
    "    dataset_for_gif.append(np.array(create_image(sample[:, :, ii_lattice * frequency])))\n",
    "\n",
    "print('Writing samples to gif')\n",
    "write_gif(dataset_for_gif, 'ising_model.gif', fps = 5000)\n"
   ]
  },
  {
   "cell_type": "code",
   "execution_count": 136,
   "metadata": {},
   "outputs": [
    {
     "name": "stderr",
     "output_type": "stream",
     "text": [
      "  0%|          | 0/10000 [00:00<?, ?it/s]"
     ]
    },
    {
     "name": "stderr",
     "output_type": "stream",
     "text": [
      "  1%|          | 60/10000 [00:00<00:16, 598.70it/s]"
     ]
    },
    {
     "name": "stdout",
     "output_type": "stream",
     "text": [
      "Metropolis sampling temp:  0\n"
     ]
    },
    {
     "name": "stderr",
     "output_type": "stream",
     "text": [
      "100%|██████████| 10000/10000 [00:16<00:00, 622.30it/s]\n",
      "  1%|▏         | 138/10000 [00:00<00:14, 689.75it/s]"
     ]
    },
    {
     "name": "stdout",
     "output_type": "stream",
     "text": [
      "Metropolis sampling temp:  3\n"
     ]
    },
    {
     "name": "stderr",
     "output_type": "stream",
     "text": [
      "100%|██████████| 10000/10000 [00:10<00:00, 970.59it/s]\n",
      "  1%|          | 109/10000 [00:00<00:09, 1084.09it/s]"
     ]
    },
    {
     "name": "stdout",
     "output_type": "stream",
     "text": [
      "Metropolis sampling temp:  6\n"
     ]
    },
    {
     "name": "stderr",
     "output_type": "stream",
     "text": [
      "100%|██████████| 10000/10000 [00:08<00:00, 1143.04it/s]\n",
      "  1%|          | 116/10000 [00:00<00:08, 1155.31it/s]"
     ]
    },
    {
     "name": "stdout",
     "output_type": "stream",
     "text": [
      "Metropolis sampling temp:  9\n"
     ]
    },
    {
     "name": "stderr",
     "output_type": "stream",
     "text": [
      "100%|██████████| 10000/10000 [00:08<00:00, 1136.71it/s]\n",
      "  1%|          | 114/10000 [00:00<00:08, 1134.86it/s]"
     ]
    },
    {
     "name": "stdout",
     "output_type": "stream",
     "text": [
      "Metropolis sampling temp:  12\n"
     ]
    },
    {
     "name": "stderr",
     "output_type": "stream",
     "text": [
      "100%|██████████| 10000/10000 [00:10<00:00, 969.41it/s]\n",
      "  1%|          | 86/10000 [00:00<00:11, 851.48it/s]"
     ]
    },
    {
     "name": "stdout",
     "output_type": "stream",
     "text": [
      "Metropolis sampling temp:  15\n"
     ]
    },
    {
     "name": "stderr",
     "output_type": "stream",
     "text": [
      "100%|██████████| 10000/10000 [00:09<00:00, 1005.59it/s]\n",
      "  1%|          | 95/10000 [00:00<00:10, 943.72it/s]"
     ]
    },
    {
     "name": "stdout",
     "output_type": "stream",
     "text": [
      "Metropolis sampling temp:  18\n"
     ]
    },
    {
     "name": "stderr",
     "output_type": "stream",
     "text": [
      "100%|██████████| 10000/10000 [00:10<00:00, 941.14it/s]\n"
     ]
    }
   ],
   "source": [
    "# Calculating specific heat as a function of temperature\n",
    "\n",
    "num_rows = 20\n",
    "num_cols = 20\n",
    "num_iterations = 10000\n",
    "J_over_kT = np.arange(0, 20, 3)\n",
    "samples = {}\n",
    "\n",
    "for ii_temp in J_over_kT:\n",
    "\n",
    "    print('Metropolis sampling temp: ', ii_temp)\n",
    "    initial_lattice = create_random_lattice(num_rows, num_cols)\n",
    "    samples[str(ii_temp)] = metropolis_sampling(initial_lattice, num_iterations, ii_temp)\n",
    "\n"
   ]
  },
  {
   "cell_type": "code",
   "execution_count": 137,
   "metadata": {},
   "outputs": [
    {
     "name": "stderr",
     "output_type": "stream",
     "text": [
      "<ipython-input-123-95628867df54>:86: RuntimeWarning: divide by zero encountered in double_scalars\n",
      "  specific_heat = [np.var(samples[key]) / (float(key) ** 2) for key in samples.keys()]\n"
     ]
    },
    {
     "data": {
      "image/png": "[encoded data removed]",
      "text/plain": [
       "<Figure size 432x288 with 1 Axes>"
      ]
     },
     "metadata": {
      "needs_background": "light"
     },
     "output_type": "display_data"
    }
   ],
   "source": [
    "# Plot specific heat as function of temperature \n",
    "\n",
    "specific_heat = compute_specific_heat(samples)\n",
    "plt.plot(J_over_kT, specific_heat)\n",
    "plt.show()"
   ]
  },
  {
   "cell_type": "code",
   "execution_count": null,
   "metadata": {},
   "outputs": [],
   "source": [
    "num_rows = 20\n",
    "num_cols = 20\n",
    "num_iterations = 10000\n",
    "J_over_kT = np.arange(0, 20, 3)\n",
    "samples = {}\n",
    "\n",
    "for ii_temp in J_over_kT:\n",
    "\n",
    "    print('Metropolis sampling temp: ', ii_temp)\n",
    "    initial_lattice = create_random_lattice(num_rows, num_cols)\n",
    "    samples[str(ii_temp)] = metropolis_sampling(initial_lattice, num_iterations, ii_temp)\n",
    "\n",
    "magnetism = compute_magnetism(samples)\n",
    "plt.plot(J_over_kT, magnetism)\n",
    "plt.show()"
   ]
  }
 ],
 "metadata": {
  "kernelspec": {
   "display_name": "Python 3",
   "language": "python",
   "name": "python3"
  },
  "language_info": {
   "codemirror_mode": {
    "name": "ipython",
    "version": 3
   },
   "file_extension": ".py",
   "mimetype": "text/x-python",
   "name": "python",
   "nbconvert_exporter": "python",
   "pygments_lexer": "ipython3",
   "version": "3.8.8"
  }
 },
 "nbformat": 4,
 "nbformat_minor": 2
}
