{
 "cells": [
  {
   "cell_type": "markdown",
   "metadata": {},
   "source": [
    "Statistical physicists use the Ising model as a model for magnetism. They want to know how magnetic materials behave at certain temperatures. The model consists of a lattice, where each site on the lattice has positive or negative spin (represented by a +1 or -1). The lattice behaves according to a probability distribution, and we would like to sample the equilibrium distribution of lattice configurations at a given temperature. However, even for a small number of lattice sites, any function of the distribution over lattice configurations is combinatorially intractable. There are too many configurations of the lattice to sum over. So, to answer questions such as what is the average magnetism (sum of +1s and -1s on the lattice) for the equilibrium distribution at a given temperature, we must sample the configurations with MCMC methods. As usual, for a given iteration of the algorithm, we propose a new configuration by flipping one of the spins uniformly at random. The new configuration is either accepted or rejected according to the normal rules of the Metropolis-Hastings algorithm. We code an algorithm to sample the state space of configurations at a given temperature, and use that sample to compute several quantities of interest below. "
   ]
  },
  {
   "cell_type": "code",
   "execution_count": 1,
   "metadata": {},
   "outputs": [],
   "source": [
    "# Import packages\n",
    "\n",
    "import numpy as np\n",
    "import random\n",
    "import matplotlib.pyplot as plt\n",
    "from array2gif import write_gif\n",
    "from tqdm import tqdm"
   ]
  },
  {
   "cell_type": "code",
   "execution_count": 2,
   "metadata": {},
   "outputs": [],
   "source": [
    "# Create initial lattice to start\n",
    "\n",
    "def create_random_lattice(rows, cols, prob = .5):\n",
    "\n",
    "    n_trials = 1\n",
    "    lattice = np.random.binomial(n_trials, prob, [rows, cols])\n",
    "    lattice_idxs = np.where(lattice == 0)\n",
    "    lattice[lattice_idxs] = -1\n",
    "\n",
    "    return lattice\n",
    "\n",
    "# Compute the probability (up to a normalizing constant) of the configuration\n",
    "\n",
    "def compute_hamiltonian(lattice):\n",
    "\n",
    "    num_rows = np.shape(lattice)[0]\n",
    "    num_cols = np.shape(lattice)[1]\n",
    "    hamiltonian = 0\n",
    "\n",
    "    for ii_row in range(np.shape(lattice)[0]):\n",
    "\n",
    "        for jj_col in range(np.shape(lattice)[1]):\n",
    "\n",
    "            # Only count neighbors down and to the right to avoid double counting \n",
    "            # Periodic boundary conditions\n",
    "            current_spin = lattice[ii_row, jj_col]\n",
    "            hamiltonian += current_spin * (lattice[(ii_row + 1) % num_rows, jj_col] + lattice[ii_row, (jj_col + 1) % num_cols])\n",
    "\n",
    "    return -hamiltonian\n",
    "\n",
    "def compute_unnormalized_prob(lattice, J_over_kT):\n",
    "\n",
    "    return np.exp(-J_over_kT * compute_hamiltonian(lattice))\n",
    "\n",
    "def propose_lattice(lattice):\n",
    "\n",
    "    num_rows = np.shape(lattice)[0]\n",
    "    num_cols = np.shape(lattice)[1]\n",
    "    rnd_row = random.sample(list(range(num_rows)), 1)\n",
    "    rnd_col = random.sample(list(range(num_cols)), 1)\n",
    "    new_lattice = np.copy(lattice)\n",
    "    new_lattice[rnd_row, rnd_col] = -1 * new_lattice[rnd_row, rnd_col] \n",
    "\n",
    "    return new_lattice\n",
    "\n",
    "def metropolis_sampling(lattice, num_iterations, J_over_kT):\n",
    "\n",
    "    u = np.random.uniform(0, 1, num_iterations)\n",
    "\n",
    "    with tqdm(total = num_iterations) as pbar:\n",
    "\n",
    "        sample = np.zeros([np.shape(lattice)[0], np.shape(lattice)[1], num_iterations])\n",
    "\n",
    "        for ii_iteration in range(num_iterations):\n",
    "            \n",
    "            candidate_lattice = propose_lattice(lattice)\n",
    "            acceptance_prob = np.min([1, np.exp(-J_over_kT * (compute_hamiltonian(candidate_lattice) \\\n",
    "                                                         - compute_hamiltonian(lattice)))])\n",
    "\n",
    "            if u[ii_iteration] < acceptance_prob:\n",
    "\n",
    "                lattice = candidate_lattice\n",
    "\n",
    "            sample[:, :, ii_iteration] = lattice\n",
    "            pbar.update(1)\n",
    "    \n",
    "    return sample\n",
    "\n",
    "# Write function that creates gif from the sample\n",
    "\n",
    "def create_image(lattice):\n",
    "\n",
    "    num_rows = np.shape(lattice)[0]\n",
    "    num_cols = np.shape(lattice)[1]\n",
    "    # Turn lattice into image with RGB triplet along third dimension\n",
    "    image = np.zeros([num_rows, num_cols, 3])\n",
    "    image[lattice == 1] = [0, 0, 0]\n",
    "    image[lattice == -1] = [255, 255, 255]\n",
    "\n",
    "    return image\n",
    "\n",
    "# Create specific heat function and plot as function of temperature\n",
    "\n",
    "def compute_specific_heat(samples):\n",
    "\n",
    "    specific_heat = [np.var(samples[key]) / (float(key) ** 2) for key in samples.keys()]\n",
    "\n",
    "    return specific_heat\n",
    "\n",
    "# Create magnetism function that calculates magnetism as function of temperature\n",
    "\n",
    "def compute_magnetism(samples):\n",
    "\n",
    "    magnetism = [np.mean(np.ravel(samples[key])) for key in samples.keys()]\n",
    "\n",
    "    return magnetism\n",
    "        \n"
   ]
  },
  {
   "cell_type": "markdown",
   "metadata": {},
   "source": [
    "We sample the equilibrium distribution for the Ising model at a low temperature. You can watch the lattice configuration evolve over time in the .gif file in this folder. At cooler temperatures, the lattice shows some structure. Similar spins are clustered together. At higher temperatures, the model becomes less structured, and the spins are more random. "
   ]
  },
  {
   "cell_type": "code",
   "execution_count": 3,
   "metadata": {},
   "outputs": [
    {
     "name": "stderr",
     "output_type": "stream",
     "text": [
      "  0%|          | 0/50000 [00:00<?, ?it/s]"
     ]
    },
    {
     "name": "stderr",
     "output_type": "stream",
     "text": [
      "  0%|          | 2/50000 [00:00<49:19, 16.90it/s]"
     ]
    },
    {
     "name": "stdout",
     "output_type": "stream",
     "text": [
      "Metropolis sampling\n"
     ]
    },
    {
     "name": "stderr",
     "output_type": "stream",
     "text": [
      "100%|██████████| 50000/50000 [17:45<00:00, 46.93it/s]\n"
     ]
    },
    {
     "name": "stdout",
     "output_type": "stream",
     "text": [
      "Writing samples to gif\n"
     ]
    }
   ],
   "source": [
    "num_rows = 100\n",
    "num_cols = 100\n",
    "initial_lattice = create_random_lattice(num_rows, num_cols)\n",
    "num_iterations = 50000\n",
    "J_over_kT = 10\n",
    "print('Metropolis sampling')\n",
    "sample = metropolis_sampling(initial_lattice, num_iterations, J_over_kT)\n",
    "\n",
    "# Make sure gif happens fast enough\n",
    "\n",
    "frequency = 200\n",
    "dataset_for_gif = []\n",
    "\n",
    "for ii_lattice in range(int(num_iterations / frequency)):\n",
    "\n",
    "    dataset_for_gif.append(np.array(create_image(sample[:, :, ii_lattice * frequency])))\n",
    "\n",
    "print('Writing samples to gif')\n",
    "write_gif(dataset_for_gif, 'ising_model.gif', fps = 5000)\n"
   ]
  },
  {
   "cell_type": "markdown",
   "metadata": {},
   "source": [
    "We calculate the specific heat and total magnetism of the Ising model for a lattice of size 20 x 20 at different temperatures below. "
   ]
  },
  {
   "cell_type": "code",
   "execution_count": 5,
   "metadata": {},
   "outputs": [
    {
     "name": "stderr",
     "output_type": "stream",
     "text": [
      "  1%|          | 58/10000 [00:00<00:17, 572.61it/s]"
     ]
    },
    {
     "name": "stdout",
     "output_type": "stream",
     "text": [
      "Metropolis sampling temp:  0\n"
     ]
    },
    {
     "name": "stderr",
     "output_type": "stream",
     "text": [
      "100%|██████████| 10000/10000 [00:12<00:00, 831.16it/s]\n",
      "  1%|          | 87/10000 [00:00<00:11, 864.71it/s]"
     ]
    },
    {
     "name": "stdout",
     "output_type": "stream",
     "text": [
      "Metropolis sampling temp:  3\n"
     ]
    },
    {
     "name": "stderr",
     "output_type": "stream",
     "text": [
      "100%|██████████| 10000/10000 [00:12<00:00, 805.89it/s]\n",
      "  1%|          | 112/10000 [00:00<00:08, 1113.03it/s]"
     ]
    },
    {
     "name": "stdout",
     "output_type": "stream",
     "text": [
      "Metropolis sampling temp:  6\n"
     ]
    },
    {
     "name": "stderr",
     "output_type": "stream",
     "text": [
      "100%|██████████| 10000/10000 [00:12<00:00, 784.26it/s]\n",
      "  1%|          | 94/10000 [00:00<00:10, 937.37it/s]"
     ]
    },
    {
     "name": "stdout",
     "output_type": "stream",
     "text": [
      "Metropolis sampling temp:  9\n"
     ]
    },
    {
     "name": "stderr",
     "output_type": "stream",
     "text": [
      "100%|██████████| 10000/10000 [00:13<00:00, 732.06it/s]\n",
      "  0%|          | 37/10000 [00:00<00:34, 291.72it/s]"
     ]
    },
    {
     "name": "stdout",
     "output_type": "stream",
     "text": [
      "Metropolis sampling temp:  12\n"
     ]
    },
    {
     "name": "stderr",
     "output_type": "stream",
     "text": [
      "100%|██████████| 10000/10000 [00:11<00:00, 894.87it/s]\n",
      "  1%|          | 91/10000 [00:00<00:10, 900.94it/s]"
     ]
    },
    {
     "name": "stdout",
     "output_type": "stream",
     "text": [
      "Metropolis sampling temp:  15\n"
     ]
    },
    {
     "name": "stderr",
     "output_type": "stream",
     "text": [
      "100%|██████████| 10000/10000 [00:13<00:00, 720.56it/s]\n",
      "  1%|          | 93/10000 [00:00<00:10, 928.38it/s]"
     ]
    },
    {
     "name": "stdout",
     "output_type": "stream",
     "text": [
      "Metropolis sampling temp:  18\n"
     ]
    },
    {
     "name": "stderr",
     "output_type": "stream",
     "text": [
      "100%|██████████| 10000/10000 [00:10<00:00, 995.97it/s]\n",
      "<ipython-input-2-95628867df54>:86: RuntimeWarning: divide by zero encountered in double_scalars\n",
      "  specific_heat = [np.var(samples[key]) / (float(key) ** 2) for key in samples.keys()]\n"
     ]
    },
    {
     "data": {
      "image/png": "[encoded data removed]",
      "text/plain": [
       "<Figure size 432x288 with 1 Axes>"
      ]
     },
     "metadata": {
      "needs_background": "light"
     },
     "output_type": "display_data"
    }
   ],
   "source": [
    "# Calculating specific heat as a function of temperature\n",
    "\n",
    "num_rows = 20\n",
    "num_cols = 20\n",
    "num_iterations = 10000\n",
    "J_over_kT = np.arange(0, 20, 3)\n",
    "samples = {}\n",
    "\n",
    "for ii_temp in J_over_kT:\n",
    "\n",
    "    print('Metropolis sampling temp: ', ii_temp)\n",
    "    initial_lattice = create_random_lattice(num_rows, num_cols)\n",
    "    samples[str(ii_temp)] = metropolis_sampling(initial_lattice, num_iterations, ii_temp)\n",
    "\n",
    "    # Plot specific heat as function of temperature \n",
    "\n",
    "specific_heat = compute_specific_heat(samples)\n",
    "plt.plot(J_over_kT, specific_heat)\n",
    "plt.title('Specific Heat over Temperature')\n",
    "plt.xlabel('Temperature')\n",
    "plt.ylabel('Specific Heat')\n",
    "plt.show()"
   ]
  },
  {
   "cell_type": "markdown",
   "metadata": {},
   "source": [
    "You can see the specific heat decreases as a function of temperature, but total magnetism (sum of +1s and -1s on the lattice) stays constant over temperature. "
   ]
  },
  {
   "cell_type": "code",
   "execution_count": 8,
   "metadata": {},
   "outputs": [
    {
     "name": "stderr",
     "output_type": "stream",
     "text": [
      "  0%|          | 42/50000 [00:00<02:02, 409.32it/s]"
     ]
    },
    {
     "name": "stdout",
     "output_type": "stream",
     "text": [
      "Metropolis sampling temp:  0\n"
     ]
    },
    {
     "name": "stderr",
     "output_type": "stream",
     "text": [
      "100%|██████████| 50000/50000 [00:44<00:00, 1119.90it/s]\n",
      "  0%|          | 116/50000 [00:00<00:43, 1156.87it/s]"
     ]
    },
    {
     "name": "stdout",
     "output_type": "stream",
     "text": [
      "Metropolis sampling temp:  3\n"
     ]
    },
    {
     "name": "stderr",
     "output_type": "stream",
     "text": [
      "100%|██████████| 50000/50000 [00:43<00:00, 1157.13it/s]\n",
      "  0%|          | 121/50000 [00:00<00:41, 1206.19it/s]"
     ]
    },
    {
     "name": "stdout",
     "output_type": "stream",
     "text": [
      "Metropolis sampling temp:  6\n"
     ]
    },
    {
     "name": "stderr",
     "output_type": "stream",
     "text": [
      "100%|██████████| 50000/50000 [00:49<00:00, 1012.71it/s]\n",
      "  0%|          | 119/50000 [00:00<00:41, 1188.70it/s]"
     ]
    },
    {
     "name": "stdout",
     "output_type": "stream",
     "text": [
      "Metropolis sampling temp:  9\n"
     ]
    },
    {
     "name": "stderr",
     "output_type": "stream",
     "text": [
      "100%|██████████| 50000/50000 [00:44<00:00, 1114.15it/s]\n",
      "  0%|          | 122/50000 [00:00<00:41, 1214.50it/s]"
     ]
    },
    {
     "name": "stdout",
     "output_type": "stream",
     "text": [
      "Metropolis sampling temp:  12\n"
     ]
    },
    {
     "name": "stderr",
     "output_type": "stream",
     "text": [
      "100%|██████████| 50000/50000 [00:42<00:00, 1167.66it/s]\n",
      "  0%|          | 115/50000 [00:00<00:43, 1145.08it/s]"
     ]
    },
    {
     "name": "stdout",
     "output_type": "stream",
     "text": [
      "Metropolis sampling temp:  15\n"
     ]
    },
    {
     "name": "stderr",
     "output_type": "stream",
     "text": [
      "100%|██████████| 50000/50000 [00:42<00:00, 1177.15it/s]\n",
      "  0%|          | 125/50000 [00:00<00:40, 1241.70it/s]"
     ]
    },
    {
     "name": "stdout",
     "output_type": "stream",
     "text": [
      "Metropolis sampling temp:  18\n"
     ]
    },
    {
     "name": "stderr",
     "output_type": "stream",
     "text": [
      "100%|██████████| 50000/50000 [00:42<00:00, 1181.51it/s]\n"
     ]
    },
    {
     "data": {
      "image/png": "[encoded data removed]",
      "text/plain": [
       "<Figure size 432x288 with 1 Axes>"
      ]
     },
     "metadata": {
      "needs_background": "light"
     },
     "output_type": "display_data"
    }
   ],
   "source": [
    "num_rows = 20\n",
    "num_cols = 20\n",
    "num_iterations = 50000\n",
    "J_over_kT = np.arange(0, 20, 3)\n",
    "samples = {}\n",
    "\n",
    "for ii_temp in J_over_kT:\n",
    "\n",
    "    print('Metropolis sampling temp: ', ii_temp)\n",
    "    initial_lattice = create_random_lattice(num_rows, num_cols)\n",
    "    samples[str(ii_temp)] = metropolis_sampling(initial_lattice, num_iterations, ii_temp)\n",
    "\n",
    "magnetism = compute_magnetism(samples)\n",
    "plt.plot(J_over_kT, magnetism)\n",
    "plt.xlabel('Temperature')\n",
    "plt.ylabel('Magnetism')\n",
    "plt.title('Magnetism over Temeprature')\n",
    "plt.ylim((-(num_cols ** 2), num_cols ** 2))\n",
    "plt.show()"
   ]
  }
 ],
 "metadata": {
  "kernelspec": {
   "display_name": "Python 3",
   "language": "python",
   "name": "python3"
  },
  "language_info": {
   "codemirror_mode": {
    "name": "ipython",
    "version": 3
   },
   "file_extension": ".py",
   "mimetype": "text/x-python",
   "name": "python",
   "nbconvert_exporter": "python",
   "pygments_lexer": "ipython3",
   "version": "3.8.8"
  }
 },
 "nbformat": 4,
 "nbformat_minor": 2
}
