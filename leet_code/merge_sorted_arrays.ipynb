{
 "cells": [
  {
   "cell_type": "code",
   "execution_count": 1,
   "metadata": {},
   "outputs": [
    {
     "name": "stdout",
     "output_type": "stream",
     "text": [
      "First sorted array:  [36]\n",
      "Second sorted array:  [13]\n",
      "Solution:  [13 36]\n"
     ]
    }
   ],
   "source": [
    "class Solution(object):\n",
    "    def merge(self, nums1, m, nums2, n):\n",
    "\n",
    "        pointer1 = m - 1\n",
    "        pointer2 = n - 1\n",
    "        idx = m + n - 1\n",
    "\n",
    "        while pointer1 >= 0 and pointer2 >= 0:\n",
    "            if nums1[pointer1] > nums2[pointer2]:\n",
    "                nums1[idx] = nums1[pointer1]\n",
    "                pointer1 -= 1\n",
    "            else:\n",
    "                nums1[idx] = nums2[pointer2]\n",
    "                pointer2 -= 1\n",
    "            idx -= 1\n",
    "        while pointer1 >= 0 or pointer2 >= 0:\n",
    "            if pointer1 >= 0:\n",
    "                nums1[idx] = nums1[pointer1]\n",
    "                idx -= 1\n",
    "                pointer1 -= 1\n",
    "            else:\n",
    "                nums1[idx] = nums2[pointer2]\n",
    "                idx -= 1\n",
    "                pointer2 -=1\n",
    "\n",
    "import numpy as np\n",
    "\n",
    "m, n = np.random.randint(0, 12, [2], dtype = int)\n",
    "nums1 = np.concatenate((np.sort(np.random.randint(0, 100, m)), np.zeros([n]))).astype(int)\n",
    "nums2 = np.sort(np.random.randint(0, 100, n)).astype(int)\n",
    "print('First sorted array: ', nums1[:m])\n",
    "print('Second sorted array: ', nums2)\n",
    "sol = Solution()\n",
    "sol.merge(nums1, m, nums2, n)\n",
    "print('Solution: ', nums1)"
   ]
  }
 ],
 "metadata": {
  "kernelspec": {
   "display_name": "base",
   "language": "python",
   "name": "python3"
  },
  "language_info": {
   "codemirror_mode": {
    "name": "ipython",
    "version": 3
   },
   "file_extension": ".py",
   "mimetype": "text/x-python",
   "name": "python",
   "nbconvert_exporter": "python",
   "pygments_lexer": "ipython3",
   "version": "3.10.7"
  }
 },
 "nbformat": 4,
 "nbformat_minor": 2
}
