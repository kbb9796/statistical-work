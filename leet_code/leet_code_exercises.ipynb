{
 "cells": [
  {
   "cell_type": "markdown",
   "metadata": {},
   "source": [
    "Describe problem here. "
   ]
  },
  {
   "cell_type": "code",
   "execution_count": null,
   "metadata": {},
   "outputs": [],
   "source": [
    "class Solution(object):\n",
    "    def merge(self, nums1, m, nums2, n):\n",
    "\n",
    "        pointer1 = m - 1\n",
    "        pointer2 = n - 1\n",
    "        idx = m + n - 1\n",
    "\n",
    "        while pointer1 >= 0 and pointer2 >= 0:\n",
    "            if nums1[pointer1] > nums2[pointer2]:\n",
    "                nums1[idx] = nums1[pointer1]\n",
    "                pointer1 -= 1\n",
    "            else:\n",
    "                nums1[idx] = nums2[pointer2]\n",
    "                pointer2 -= 1\n",
    "            idx -= 1\n",
    "        while pointer1 >= 0 or pointer2 >= 0:\n",
    "            if pointer1 >= 0:\n",
    "                nums1[idx] = nums1[pointer1]\n",
    "                idx -= 1\n",
    "                pointer1 -= 1\n",
    "            else:\n",
    "                nums1[idx] = nums2[pointer2]\n",
    "                idx -= 1\n",
    "                pointer2 -=1\n",
    "\n",
    "import numpy as np\n",
    "\n",
    "m, n = np.random.randint(0, 12, [2], dtype = int)\n",
    "nums1 = np.concatenate((np.sort(np.random.randint(0, 100, m)), np.zeros([n]))).astype(int)\n",
    "nums2 = np.sort(np.random.randint(0, 100, n)).astype(int)\n",
    "print('First sorted array: ', nums1[:m])\n",
    "print('Second sorted array: ', nums2)\n",
    "sol = Solution()\n",
    "sol.merge(nums1, m, nums2, n)\n",
    "print('Solution: ', nums1)"
   ]
  },
  {
   "cell_type": "code",
   "execution_count": null,
   "metadata": {},
   "outputs": [],
   "source": [
    "class Solution(object):\n",
    "    def removeElement(self, nums, val):\n",
    "        \"\"\"\n",
    "        :type nums: List[int]\n",
    "        :type val: int\n",
    "        :rtype: int\n",
    "        \"\"\"\n",
    "        idx = 0\n",
    "\n",
    "        for ii in range(len(nums)):\n",
    "            if nums[ii] != val:\n",
    "                nums[idx] = nums[ii]\n",
    "                idx += 1\n",
    "\n",
    "sol = Solution()\n",
    "nums = [0,1,2,2,3,0,4,2]\n",
    "val = 2\n",
    "sol.removeElement(nums, val)\n",
    "print(nums)"
   ]
  },
  {
   "cell_type": "markdown",
   "metadata": {},
   "source": [
    "Describe problem here"
   ]
  },
  {
   "cell_type": "code",
   "execution_count": null,
   "metadata": {},
   "outputs": [],
   "source": [
    "class Solution(object):\n",
    "    def removeDuplicates(self, nums):\n",
    "        \"\"\"\n",
    "        :type nums: List[int]\n",
    "        :rtype: int\n",
    "        \"\"\"\n",
    "        idx = 0\n",
    "\n",
    "        for ii in range(1, len(nums)):\n",
    "            if nums[idx] != nums[ii]:\n",
    "                nums[idx + 1] = nums[ii]\n",
    "                idx += 1\n",
    "\n",
    "        return idx + 1"
   ]
  },
  {
   "cell_type": "markdown",
   "metadata": {},
   "source": [
    "voting algorithm below"
   ]
  },
  {
   "cell_type": "code",
   "execution_count": null,
   "metadata": {},
   "outputs": [],
   "source": [
    "class Solution(object):\n",
    "    def majorityElement(self, nums):\n",
    "        \"\"\"\n",
    "        :type nums: List[int]\n",
    "        :rtype: int\n",
    "        \"\"\"\n",
    "        count = 0\n",
    "        \n",
    "        for ii in range(len(nums)):\n",
    "            if count == 0:\n",
    "                ref_element = nums[ii]\n",
    "                count = 1\n",
    "            else:\n",
    "                if nums[ii] == ref_element:\n",
    "                    count += 1\n",
    "                else:\n",
    "                    count -= 1\n",
    "\n",
    "        return ref_element\n"
   ]
  },
  {
   "cell_type": "markdown",
   "metadata": {},
   "source": [
    "explain stock price example below"
   ]
  },
  {
   "cell_type": "code",
   "execution_count": null,
   "metadata": {},
   "outputs": [],
   "source": [
    "class Solution(object):\n",
    "    def maxProfit(self, prices):\n",
    "        \"\"\"\n",
    "        :type prices: List[int]\n",
    "        :rtype: int\n",
    "        \"\"\"\n",
    "        \n",
    "        lowest_price = prices[0]\n",
    "        profit = 0\n",
    "        for ii_price in prices:\n",
    "            if ii_price < lowest_price:\n",
    "                lowest_price = ii_price\n",
    "            if ii_price - lowest_price > profit:\n",
    "                profit = ii_price - lowest_price\n",
    "\n",
    "        return profit"
   ]
  },
  {
   "cell_type": "markdown",
   "metadata": {},
   "source": [
    "Rotate array"
   ]
  },
  {
   "cell_type": "code",
   "execution_count": 16,
   "metadata": {},
   "outputs": [],
   "source": [
    "class Solution(object):\n",
    "    def rotate(self, nums, k):\n",
    "        \"\"\"\n",
    "        :type nums: List[int]\n",
    "        :type k: int\n",
    "        :rtype: None Do not return anything, modify nums in-place instead.\n",
    "        \"\"\"\n",
    "\n",
    "        k = k % len(nums)\n",
    "        if k > 0:\n",
    "            nums[:] = nums[::-1]\n",
    "            nums[:k] = nums[k-1::-1]\n",
    "            nums[k:] = nums[:k-1:-1]\n",
    "        else:\n",
    "            nums[:]"
   ]
  },
  {
   "cell_type": "markdown",
   "metadata": {},
   "source": [
    "roman to integer"
   ]
  },
  {
   "cell_type": "code",
   "execution_count": 31,
   "metadata": {},
   "outputs": [
    {
     "name": "stdout",
     "output_type": "stream",
     "text": [
      "Count: 3, index: 2\n",
      "3\n"
     ]
    }
   ],
   "source": [
    "class Solution(object):\n",
    "    def romanToInt(self, s):\n",
    "        \"\"\"\n",
    "        :type s: str\n",
    "        :rtype: int\n",
    "        \"\"\"\n",
    "\n",
    "        count = 0\n",
    "        idx = 0\n",
    "        numerals = {'I':1, 'V':5, 'X':10, 'L':50, 'C':100, 'D':500, 'M':1000}\n",
    "        while idx < len(s) - 1:\n",
    "            if numerals[s[idx]] >= numerals[s[idx + 1]]:\n",
    "                count += numerals[s[idx]]\n",
    "                idx += 1\n",
    "            else:\n",
    "                count += numerals[s[idx + 1]] - numerals[s[idx]]\n",
    "                idx += 2\n",
    "        if idx < len(s):\n",
    "            count += numerals[s[idx]]\n",
    "\n",
    "        print(f'Count: {count}, index: {idx}')\n",
    "\n",
    "        return count\n",
    "    \n",
    "sol = Solution()\n",
    "count = sol.romanToInt('III')\n",
    "print(count)\n"
   ]
  },
  {
   "cell_type": "markdown",
   "metadata": {},
   "source": [
    "length of last word"
   ]
  },
  {
   "cell_type": "code",
   "execution_count": 35,
   "metadata": {},
   "outputs": [
    {
     "name": "stdout",
     "output_type": "stream",
     "text": [
      "5\n"
     ]
    }
   ],
   "source": [
    "class Solution(object):\n",
    "    def lengthOfLastWord(self, s):\n",
    "        \"\"\"\n",
    "        :type s: str\n",
    "        :rtype: int\n",
    "        \"\"\"\n",
    "\n",
    "        idx = len(s) - 1\n",
    "        length = 0\n",
    "        while s[idx] == ' ':\n",
    "            idx -= 1\n",
    "        while s[idx] != ' ':\n",
    "            length += 1\n",
    "            idx -= 1\n",
    "        \n",
    "        return length\n",
    "\n",
    "sol = Solution()\n",
    "length = sol.lengthOfLastWord('Hello world')\n",
    "print(length)"
   ]
  },
  {
   "cell_type": "markdown",
   "metadata": {},
   "source": [
    "longest prefix"
   ]
  },
  {
   "cell_type": "code",
   "execution_count": 39,
   "metadata": {},
   "outputs": [
    {
     "name": "stdout",
     "output_type": "stream",
     "text": [
      "fl\n"
     ]
    }
   ],
   "source": [
    "class Solution(object):\n",
    "    def longestCommonPrefix(self, strs):\n",
    "        \"\"\"\n",
    "        :type strs: List[str]\n",
    "        :rtype: str\n",
    "        \"\"\"\n",
    "\n",
    "        ref_word = strs[0]\n",
    "        min_len = len(ref_word)\n",
    "\n",
    "        for ii_word in strs[1:]:\n",
    "            idx = 0\n",
    "            while idx < min(len(ii_word), len(ref_word), min_len):\n",
    "                if ii_word[idx] == ref_word[idx]:\n",
    "                    idx += 1\n",
    "                else:\n",
    "                    ref_word = ii_word\n",
    "                    break\n",
    "            if idx < min_len:\n",
    "                min_len = idx\n",
    "        \n",
    "        return strs[0][:min_len]\n",
    "\n",
    "strs = ['flower', 'flow', 'flight']\n",
    "sol = Solution()\n",
    "longest_prefix = sol.longestCommonPrefix(strs)\n",
    "print(longest_prefix)"
   ]
  },
  {
   "cell_type": "markdown",
   "metadata": {},
   "source": [
    "needle in haystack"
   ]
  },
  {
   "cell_type": "code",
   "execution_count": 41,
   "metadata": {},
   "outputs": [
    {
     "name": "stdout",
     "output_type": "stream",
     "text": [
      "['a', 'bc', 'bcd', 'c']\n"
     ]
    }
   ],
   "source": [
    "class Solution(object):\n",
    "    def strStr(self, haystack, needle):\n",
    "        \"\"\"\n",
    "        :type haystack: str\n",
    "        :type needle: str\n",
    "        :rtype: int\n",
    "        \"\"\"\n",
    "        \n",
    "        for ii_idx in range(len(haystack) - len(needle) + 1):\n",
    "            if needle == haystack[ii_idx:ii_idx + len(needle)]:\n",
    "                return ii_idx\n",
    "        return -1"
   ]
  },
  {
   "cell_type": "markdown",
   "metadata": {},
   "source": [
    "stock prices II"
   ]
  },
  {
   "cell_type": "code",
   "execution_count": null,
   "metadata": {},
   "outputs": [],
   "source": [
    "class Solution(object):\n",
    "    def maxProfit(self, prices):\n",
    "        \"\"\"\n",
    "        :type prices: List[int]\n",
    "        :rtype: int\n",
    "        \"\"\"\n",
    "\n",
    "        low = prices[0]\n",
    "        profit = 0\n",
    "\n",
    "        for ii_price in prices:\n",
    "            if ii_price < low: # buying\n",
    "                low = ii_price \n",
    "            else:\n",
    "                profit += ii_price - low\n",
    "                low = ii_price\n",
    "\n",
    "        return profit"
   ]
  },
  {
   "cell_type": "markdown",
   "metadata": {},
   "source": [
    "jump game below"
   ]
  },
  {
   "cell_type": "code",
   "execution_count": 44,
   "metadata": {},
   "outputs": [
    {
     "name": "stdout",
     "output_type": "stream",
     "text": [
      "5\n",
      "4\n",
      "3\n",
      "2\n",
      "1\n",
      "0\n"
     ]
    }
   ],
   "source": [
    "class Solution(object):\n",
    "    def canJump(self, nums):\n",
    "        \"\"\"\n",
    "        :type nums: List[int]\n",
    "        :rtype: bool\n",
    "        \"\"\"\n",
    "\n",
    "        target_index = len(nums) - 1\n",
    "        for ii in range(len(nums) - 2, -1, -1):\n",
    "            if ii + nums[ii] >= target_index:\n",
    "                target_index = ii\n",
    "        return target_index == 0\n",
    "    \n"
   ]
  },
  {
   "cell_type": "markdown",
   "metadata": {},
   "source": [
    "h index"
   ]
  },
  {
   "cell_type": "code",
   "execution_count": null,
   "metadata": {},
   "outputs": [],
   "source": [
    "class Solution(object):\n",
    "    def hIndex(self, citations):\n",
    "        \"\"\"\n",
    "        :type citations: List[int]\n",
    "        :rtype: int\n",
    "        \"\"\"\n",
    "\n",
    "        sorted_citations = sorted(citations)\n",
    "        h_idx = len(citations)\n",
    "        for ii_idx in range(len(citations)):\n",
    "            if sorted_citations[ii_idx] < h_idx:\n",
    "                h_idx -= 1\n",
    "        return h_idx\n"
   ]
  },
  {
   "cell_type": "markdown",
   "metadata": {},
   "source": [
    "product with self except one number"
   ]
  },
  {
   "cell_type": "code",
   "execution_count": 2,
   "metadata": {},
   "outputs": [
    {
     "data": {
      "text/plain": [
       "[24, 12, 8, 6]"
      ]
     },
     "execution_count": 2,
     "metadata": {},
     "output_type": "execute_result"
    }
   ],
   "source": [
    "class Solution(object):\n",
    "    def productExceptSelf(self, nums):\n",
    "        \"\"\"\n",
    "        :type nums: List[int]\n",
    "        :rtype: List[int]\n",
    "        \"\"\"\n",
    "\n",
    "        nums_len = len(nums)\n",
    "        prefix = [1] * nums_len\n",
    "        suffix = [1] * nums_len\n",
    "        for ii_idx in range(1, nums_len):\n",
    "            prefix[ii_idx] = nums[ii_idx - 1] * prefix[ii_idx - 1]\n",
    "            suffix[ii_idx] = nums[-ii_idx] * suffix[ii_idx - 1]\n",
    "\n",
    "        return [ii * jj for ii, jj in zip(prefix, suffix[::-1])]\n",
    "        # for ii_idx in range(nums_len):\n",
    "\n",
    "sol = Solution()\n",
    "nums = [1, 2, 3, 4]\n",
    "sol.productExceptSelf(nums)\n"
   ]
  },
  {
   "cell_type": "markdown",
   "metadata": {},
   "source": [
    "gas game"
   ]
  },
  {
   "cell_type": "code",
   "execution_count": null,
   "metadata": {},
   "outputs": [],
   "source": [
    "class Solution(object):\n",
    "    def canCompleteCircuit(self, gas, cost):\n",
    "        \"\"\"\n",
    "        :type gas: List[int]\n",
    "        :type cost: List[int]\n",
    "        :rtype: int\n",
    "        \"\"\"\n",
    "\n",
    "        if sum(cost) > sum(gas):\n",
    "            return -1\n",
    "        else:\n",
    "            start_idx = 0\n",
    "            current_gas = 0\n",
    "            for ii_idx in range(len(gas)):\n",
    "                current_gas += (gas[ii_idx] - cost[ii_idx])\n",
    "                if current_gas < 0:\n",
    "                    start_idx = ii_idx + 1\n",
    "                    current_gas = 0\n",
    "            return start_idx"
   ]
  },
  {
   "cell_type": "code",
   "execution_count": null,
   "metadata": {},
   "outputs": [],
   "source": [
    "class Solution(object):\n",
    "    def diStringMatch(self, s):\n",
    "        \"\"\"\n",
    "        :type s: str\n",
    "        :rtype: List[int]\n",
    "        \"\"\"\n",
    "        low = 0\n",
    "        high = len(s)\n",
    "        perm = [0] * (high + 1)\n",
    "        for ii_idx in range(len(s)):\n",
    "            if s[ii_idx] == 'I':\n",
    "                perm[ii_idx] = low\n",
    "                low += 1\n",
    "            else:\n",
    "                perm[ii_idx] = high\n",
    "                high -= 1\n",
    "        perm[-1] = low\n",
    "\n",
    "        return perm"
   ]
  },
  {
   "cell_type": "code",
   "execution_count": null,
   "metadata": {},
   "outputs": [],
   "source": [
    "class Solution(object):\n",
    "    def minDeletionSize(self, strs):\n",
    "        \"\"\"\n",
    "        :type strs: List[str]\n",
    "        :rtype: int\n",
    "        \"\"\"\n",
    "\n",
    "        to_del = 0\n",
    "        for col in range(len(strs[0])):\n",
    "            real = [string[col] for string in strs]\n",
    "            if real != sorted(real):\n",
    "                to_del += 1\n",
    "        return to_del"
   ]
  },
  {
   "cell_type": "code",
   "execution_count": null,
   "metadata": {},
   "outputs": [],
   "source": [
    "class Solution(object):\n",
    "    def isAlienSorted(self, words, order):\n",
    "        \"\"\"\n",
    "        :type words: List[str]\n",
    "        :type order: str\n",
    "        :rtype: bool\n",
    "        \"\"\"\n",
    "\n",
    "        for idx in range(len(words) - 1):\n",
    "            counter = 0\n",
    "            word = words[idx]\n",
    "            next_word = words[idx + 1]\n",
    "            while word[counter] == next_word[counter] and counter < min(len(word) - 1, len(next_word) - 1):\n",
    "                counter += 1\n",
    "            if order.index(word[counter]) > order.index(next_word[counter]):\n",
    "                return False\n",
    "            else:\n",
    "                if word[:counter+1] == next_word[:counter+1] and len(word) > len(next_word):\n",
    "                    return False\n",
    "\n",
    "        return True"
   ]
  },
  {
   "cell_type": "code",
   "execution_count": null,
   "metadata": {},
   "outputs": [],
   "source": [
    "class Solution(object):\n",
    "    def commonChars(self, words):\n",
    "        \"\"\"\n",
    "        :type words: List[str]\n",
    "        :rtype: List[str]\n",
    "        \"\"\"\n",
    "        frequency = {letter : [0] * len(words) for letter in set(words[0])}\n",
    "        chars = []\n",
    "        for letter in set(words[0]):\n",
    "            for idx, word in enumerate(words):\n",
    "                frequency[letter][idx] = word.count(letter)\n",
    "        for letter in set(words[0]):\n",
    "            for rep in range(min(frequency[letter])):\n",
    "                chars.append(letter)\n",
    "        return chars"
   ]
  }
 ],
 "metadata": {
  "kernelspec": {
   "display_name": "Python 3",
   "language": "python",
   "name": "python3"
  },
  "language_info": {
   "codemirror_mode": {
    "name": "ipython",
    "version": 3
   },
   "file_extension": ".py",
   "mimetype": "text/x-python",
   "name": "python",
   "nbconvert_exporter": "python",
   "pygments_lexer": "ipython3",
   "version": "3.8.8"
  }
 },
 "nbformat": 4,
 "nbformat_minor": 2
}
