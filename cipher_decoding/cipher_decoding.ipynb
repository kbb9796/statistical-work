{
 "cells": [
  {
   "cell_type": "markdown",
   "metadata": {},
   "source": [
    "This notebook recreates the famous cryptography paper by Coram and Beineke in which the authors were able to use the Metropolis-Hastings algorithm to crack a simple \"substitution cipher\" that prison inmates used to encrypt messages to each other. A substitution cipher is just a function that translates each letter of the coded message to one letter of the alphabet. To decode the messages, they initialized a random substitution cipher. At each iteration of the algorithm, they propose a new substitution cipher by swapping two letters in code space uniformly at random. This new substitution cipher is then accepted or rejected with a given probability consistent with the normal Metropolis-Hastings algorithm.\n",
    "\n",
    "In order to use the Metropolis-Hastings algorithm, we need to know how likely each substitution cipher is. First, we need to get a baseline idea of how frequently each letter comes after another. To do this, we downloaded the book War and Peace and recorded exactly that. With a matrix of transition probabilities, we decode the cipher, and then multiply the transition probabilities corresponding to the decoded message together. \n",
    "\n",
    "This algorithm allows us to navigate the state space of substitution ciphers efficiently, finding the most likely ciphers given the observed coded message. We write a program to solve substitution ciphers and give an example of a coded and decoded message (one of my favorite quotes about probability)."
   ]
  },
  {
   "cell_type": "code",
   "execution_count": 2,
   "metadata": {},
   "outputs": [],
   "source": [
    "## Stanford MCMC decoding\n",
    "\n",
    "import numpy as np\n",
    "import matplotlib.pyplot as plt\n",
    "\n",
    "## Idea is to first get some sort of prior distribution for how likely characters are to follow each other\n",
    "## If you are working with a simple substitution cipher i.e. one character = another character, one to one correspondence\n",
    "\n",
    "# So, need to download some massive text document, and record how likely it is for one character to follow another\n",
    "# Need program to record the counts and put this into a transition matrix\n",
    "\n",
    "filepath = 'warAndPeace.txt'\n",
    "\n",
    "# Define the characters or patterns you want to replace with spaces\n",
    "charactersToReplace = ['\"', \"'\", '--', '!', '@', '#', '$', '%', '^', '&', '*', '(', ')', \\\n",
    "    '-', '_', '=', '+', '[', ']', '{', '}', ';', ':', ',', '.', '/', '?', '<', '>', '|', \\\n",
    "        '\\n', '\\t', 'à', 'ä', 'é', 'ê']\n",
    "\n",
    "with open(filepath, 'r') as file:\n",
    "\n",
    "    text = file.read().lower()\n",
    "    text = ''.join(' ' if char in charactersToReplace else char for char in text) # Replace characters with spaces using a generator expression\n",
    "    text = ''.join(char for char in text if not char.isdigit())\n",
    "\n",
    "textArray = np.array(list(text))\n",
    "uniqueCharacters = np.unique(textArray)\n",
    "\n",
    "# Now that we have removed all of the unwanted characters from the text, we can count the transitions\n",
    "\n",
    "epsilon = .00001\n",
    "transitionMatrix = np.zeros([len(uniqueCharacters), len(uniqueCharacters)]) + epsilon\n",
    "numCharacters = 3000000\n",
    "\n",
    "for charIndex in range(numCharacters):\n",
    "\n",
    "    currentChar = text[charIndex]\n",
    "    nextChar = text[charIndex + 1]\n",
    "    tempTransitionRow = np.where(currentChar == uniqueCharacters)\n",
    "    tempTransitionCol = np.where(nextChar == uniqueCharacters)\n",
    "    transitionMatrix[tempTransitionRow, tempTransitionCol] += 1\n",
    "\n",
    "# Normalizing\n",
    "\n",
    "for iiRow in range(np.shape(transitionMatrix)[0]):\n",
    "\n",
    "    transitionMatrix[iiRow, :] = transitionMatrix[iiRow, :] / np.sum(transitionMatrix[iiRow, :])\n"
   ]
  },
  {
   "cell_type": "code",
   "execution_count": 10,
   "metadata": {},
   "outputs": [
    {
     "name": "stdout",
     "output_type": "stream",
     "text": [
      "Coded message:  owcnhcnhqlmhqehf hergqdcomhtuqomnhrzquohkdqzrzcico hhcehaqjhwrnhfrjmhowmhsqdijhrhkmdempohfmpwrlcnfhhwmhwrnhrohimrnohpqlpmjmjhnqhfupwhoqhqudhcfkmdempohclomiimponhowrohclhqdjmdhoqhkdmjcpohicooimhkrdonhqehcohhhsmhlmmjhlqohnqigmhcllufmdrzimhjceemdmlocrihmturocqlnhhzuohprlhunmhjcpmhscowhercdhnuppmnnhh \n",
      "\n",
      "Decoded message:  this is one of my favorite quotes about probability  if god has made the world a perfect mechanism  he has at least conceded so much to our imperfect intellects that in order to predict little parts of it   we need not solve innumerable differential equations  but can use dice with fair success  \n"
     ]
    }
   ],
   "source": [
    "## Now that we have the transition matrix, we can calculate the plausibility/likelihood of each coded text\n",
    "# First create a simple substitution cipher\n",
    "\n",
    "import random\n",
    "import numpy as np\n",
    "import sys \n",
    "\n",
    "alphabet = ' abcdefghijklmnopqrstuvwxyz'\n",
    "\n",
    "def makeRandomKey():\n",
    "\n",
    "    tempList = list(alphabet)\n",
    "    random.shuffle(tempList)\n",
    "    randomKey = dict(zip(alphabet, tempList))\n",
    "\n",
    "    return randomKey\n",
    "\n",
    "filepath = 'dice_fair_success.txt'\n",
    "with open(filepath, 'r') as file:\n",
    "\n",
    "    textString = file.read().lower()\n",
    "    textString = ''.join(' ' if char in charactersToReplace else char for char in textString) # Replace characters with spaces using a generator expression\n",
    "    textString = ''.join(char for char in textString if not char.isdigit())\n",
    "\n",
    "cipherKey = makeRandomKey()\n",
    "\n",
    "# Use the cipher on the string\n",
    "cipher = []\n",
    "\n",
    "for charIndex in range(len(textString)):\n",
    "\n",
    "    currentChar = textString[charIndex]\n",
    "    tempTargetChar = cipherKey[currentChar]\n",
    "    cipher.append(tempTargetChar)\n",
    "\n",
    "cipher = ''.join(cipher)\n",
    "\n",
    "## Using your deciphering method for a known cipher\n",
    "\n",
    "numChars = len(cipher)\n",
    "decodedCipher = []\n",
    "\n",
    "for jjChar in range(numChars):\n",
    "\n",
    "    tempChar = cipher[jjChar]\n",
    "    tempDecodedLetter = [key for key, value in cipherKey.items() if value == tempChar][0]\n",
    "    decodedCipher.append(tempDecodedLetter[0])\n",
    "\n",
    "decodedCipher = ''.join(decodedCipher)\n",
    "print('Coded message: ', cipher, '\\n')\n",
    "print('Decoded message: ', decodedCipher)\n",
    "machineEpsilon = sys.float_info.epsilon\n"
   ]
  },
  {
   "cell_type": "code",
   "execution_count": 11,
   "metadata": {},
   "outputs": [],
   "source": [
    "def proposeNewKey(key):\n",
    "\n",
    "    pair = random.sample(alphabet, 2)\n",
    "    newKey = dict(key)\n",
    "    newKey[pair[0]] = key[pair[1]]\n",
    "    newKey[pair[1]] = key[pair[0]]\n",
    "\n",
    "    return newKey"
   ]
  },
  {
   "cell_type": "code",
   "execution_count": 21,
   "metadata": {},
   "outputs": [
    {
     "name": "stdout",
     "output_type": "stream",
     "text": [
      "Iteration:  0 --- hlotmotmrwdmrfmjzmfiprxohdmsgrhdtminrghmexrninoaohzmmofmbrqmlitmjiqdmhldmkrxaqmimedxfduhmjduliwotjmmldmlitmihmadithmurwudqdqmtrmjgulmhrmrgxmojedxfduhmowhdaaduhtmhlihmowmrxqdxmhrmexdqouhmaohhadmeixhtmrfmohmmmkdmwddqmwrhmtrapdmowwgjdxinadmqoffdxdwhoiamdsgihorwtmmnghmuiwmgtdmqoudmkohlmfioxmtguudttmm \n",
      "\n",
      "Iteration:  2000 --- this is one of my favorite quotes apout bropapility  if kod has made the world a berfect mechanism  he has at least conceded so much to our imberfect intellects that in order to bredict little barts of it   we need not solve innumeraple differential equations  put can use dice with fair success   \n",
      "\n",
      "Iteration:  4000 --- this is one of my favorite quotes agout progagility  if bod has made the world a perfect mechanism  he has at least conceded so much to our imperfect intellects that in order to predict little parts of it   we need not solve innumeragle differential equations  gut can use dice with fair success   \n",
      "\n",
      "Iteration:  6000 --- this is one of my fakorite quotes apout bropapility  if god has made the world a berfect mechanism  he has at least conceded so much to our imberfect intellects that in order to bredict little barts of it   we need not solke innumeraple differential equations  put can use dice with fair success   \n",
      "\n",
      "Iteration:  8000 --- this is one of my fakorite quotes apout bropapility  if jod has made the world a berfect mechanism  he has at least conceded so much to our imberfect intellects that in order to bredict little barts of it   we need not solke innumeraple differential equations  put can use dice with fair success   \n",
      "\n",
      "Iteration:  10000 --- this is one of my fakorite quotes about probability  if vod has made the world a perfect mechanism  he has at least conceded so much to our imperfect intellects that in order to predict little parts of it   we need not solke innumerable differential equations  but can use dice with fair success   \n",
      "\n",
      "Iteration:  12000 --- this is one of my favorite quotes about probability  if god has made the world a perfect mechanism  he has at least conceded so much to our imperfect intellects that in order to predict little parts of it   we need not solve innumerable differential equations  but can use dice with fair success   \n",
      "\n",
      "Iteration:  14000 --- this is one of my favorite quotes about probability  if jod has made the world a perfect mechanism  he has at least conceded so much to our imperfect intellects that in order to predict little parts of it   we need not solve innumerable differential equations  but can use dice with fair success   \n",
      "\n",
      "Iteration:  16000 --- this is one of my favorite quotes about probability  if god has made the world a perfect mechanism  he has at least conceded so much to our imperfect intellects that in order to predict little parts of it   we need not solve innumerable differential equations  but can use dice with fair success   \n",
      "\n",
      "Iteration:  18000 --- this is one of my favorite quotes about probability  if jod has made the world a perfect mechanism  he has at least conceded so much to our imperfect intellects that in order to predict little parts of it   we need not solve innumerable differential equations  but can use dice with fair success   \n",
      "\n",
      "Iteration:  20000 --- this is one of my favorite quotes apout bropapility  if god has made the world a berfect mechanism  he has at least conceded so much to our imberfect intellects that in order to bredict little barts of it   we need not solve innumeraple differential equations  put can use dice with fair success   \n",
      "\n",
      "Iteration:  22000 --- this is one of my favorite quotes about probability  if god has made the world a perfect mechanism  he has at least conceded so much to our imperfect intellects that in order to predict little parts of it   we need not solve innumerable differential equations  but can use dice with fair success   \n",
      "\n",
      "Iteration:  24000 --- this is one of my favorite juotes about probability  if god has made the world a perfect mechanism  he has at least conceded so much to our imperfect intellects that in order to predict little parts of it   we need not solve innumerable differential ejuations  but can use dice with fair success   \n",
      "\n"
     ]
    }
   ],
   "source": [
    "## Now you can use the algorithm to start decoding\n",
    "\n",
    "numIterations = 26000\n",
    "numChars = len(cipher)\n",
    "codeSpace = makeRandomKey()\n",
    "accept = np.zeros([numIterations])\n",
    "acceptanceProbabilities = np.zeros([numIterations])\n",
    "plausibility = np.zeros([numIterations])\n",
    "\n",
    "for iiIteration in range(numIterations):\n",
    "\n",
    "    tempTransitionProbs = np.zeros([numChars - 1, 1])\n",
    "\n",
    "    for jjChar in range(numChars - 1):\n",
    "\n",
    "        currentChar = cipher[jjChar]\n",
    "        nextChar = cipher[jjChar + 1]\n",
    "        rowIndex = np.where(uniqueCharacters == [key for key, value in codeSpace.items() if value == currentChar])[0][0]\n",
    "        columnIndex = np.where(uniqueCharacters == [key for key, value in codeSpace.items() if value == nextChar])[0][0]\n",
    "        tempTransitionProbs[jjChar] = transitionMatrix[rowIndex, columnIndex]\n",
    "\n",
    "    for jjProb in range(np.size(tempTransitionProbs)):\n",
    "\n",
    "        if tempTransitionProbs[jjProb] < machineEpsilon:\n",
    "\n",
    "            tempTransitionProbs[jjProb] = machineEpsilon\n",
    "\n",
    "    currentPlausibility = np.sum(np.log(tempTransitionProbs))\n",
    "    plausibility[iiIteration] = currentPlausibility\n",
    "\n",
    "    candidateCodeSpace = proposeNewKey(codeSpace)\n",
    "    candidateTransitionProbs = np.zeros([numChars - 1, 1])\n",
    "\n",
    "    for jjChar in range(numChars - 1):\n",
    "\n",
    "        currentChar = cipher[jjChar]\n",
    "        nextChar = cipher[jjChar + 1]\n",
    "        rowIndex = np.where(uniqueCharacters == [key for key, value in candidateCodeSpace.items() if value == currentChar])[0][0]\n",
    "        columnIndex = np.where(uniqueCharacters == [key for key, value in candidateCodeSpace.items() if value == nextChar])[0][0]\n",
    "        candidateTransitionProbs[jjChar] = transitionMatrix[rowIndex, columnIndex]\n",
    "\n",
    "    for jjProb in range(np.size(tempTransitionProbs)):\n",
    "\n",
    "        if candidateTransitionProbs[jjProb] < machineEpsilon:\n",
    "\n",
    "            candidateTransitionProbs[jjProb] = machineEpsilon\n",
    "\n",
    "    candidatePlausibility = np.sum(np.log(candidateTransitionProbs))\n",
    "    logDifference = candidatePlausibility - currentPlausibility\n",
    "    \n",
    "    if logDifference >= 0:\n",
    "\n",
    "        acceptanceProb = 1\n",
    "\n",
    "    else:\n",
    "\n",
    "        acceptanceProb = np.exp(logDifference)\n",
    "\n",
    "    u = np.random.uniform()\n",
    "    acceptanceProbabilities[iiIteration] = acceptanceProb\n",
    "\n",
    "    if u < acceptanceProb:\n",
    "\n",
    "        accept[iiIteration] = 1\n",
    "        codeSpace = candidateCodeSpace\n",
    "\n",
    "    # Decode the message\n",
    "\n",
    "    if np.mod(iiIteration, 2000) == 0:\n",
    "\n",
    "        mcmcdecodedCipher = []\n",
    "\n",
    "        for jjChar in range(numChars):\n",
    "\n",
    "            tempChar = cipher[jjChar]\n",
    "            tempDecodedLetter = [key for key, value in codeSpace.items() if value == tempChar][0]\n",
    "            mcmcdecodedCipher.append(tempDecodedLetter[0])\n",
    "\n",
    "        mcmcdecodedCipher = ''.join(mcmcdecodedCipher)\n",
    "        print('Iteration: ', iiIteration, '---', mcmcdecodedCipher, '\\n')\n",
    "\n",
    "\n"
   ]
  },
  {
   "cell_type": "code",
   "execution_count": 22,
   "metadata": {},
   "outputs": [
    {
     "name": "stdout",
     "output_type": "stream",
     "text": [
      "Decoded with MCMC:  this is one of my favorite juotes about probability  if god has made the world a perfect mechanism  he has at least conceded so much to our imperfect intellects that in order to predict little parts of it   we need not solve innumerable differential ejuations  but can use dice with fair success  \n",
      "Known decoded message:  this is one of my favorite quotes about probability  if god has made the world a perfect mechanism  he has at least conceded so much to our imperfect intellects that in order to predict little parts of it   we need not solve innumerable differential equations  but can use dice with fair success  \n"
     ]
    }
   ],
   "source": [
    "numChars = len(cipher)\n",
    "knowndecodedCipher = []\n",
    "\n",
    "for jjChar in range(numChars):\n",
    "\n",
    "    tempChar = cipher[jjChar]\n",
    "    tempDecodedLetter = [key for key, value in cipherKey.items() if value == tempChar][0]\n",
    "    knowndecodedCipher.append(tempDecodedLetter[0])\n",
    "\n",
    "knowndecodedCipher = ''.join(knowndecodedCipher)\n",
    "\n",
    "print('Decoded with MCMC: ', mcmcdecodedCipher)\n",
    "print('Known decoded message: ', knowndecodedCipher)"
   ]
  },
  {
   "cell_type": "markdown",
   "metadata": {},
   "source": [
    "We can see that the MCMC method has nearly perfectly decoded the substitution cipher. In fact, we see in the second to last printed iteration (iteration 22000) that it was decoded perfectly. We plot the likelihood of the current decoding function across iterations of the algorithm. The likelihood makes some large jumps at the start of the algorithm but then only makes minor changes to the decoding key. The decoded messages printed during the algorithm reflect this above. "
   ]
  },
  {
   "cell_type": "code",
   "execution_count": 23,
   "metadata": {},
   "outputs": [
    {
     "data": {
      "image/png": "[encoded data removed]",
      "text/plain": [
       "<Figure size 640x480 with 1 Axes>"
      ]
     },
     "metadata": {},
     "output_type": "display_data"
    }
   ],
   "source": [
    "# Plausibility \n",
    "\n",
    "plt.plot(list(range(numIterations)), plausibility, color = 'r')\n",
    "plt.xlabel('Iteration')\n",
    "plt.ylabel('Likelihood')\n",
    "plt.title('Likelihood of Current Decryption Key over Time')\n",
    "plt.show()"
   ]
  }
 ],
 "metadata": {
  "kernelspec": {
   "display_name": "Python 3",
   "language": "python",
   "name": "python3"
  },
  "language_info": {
   "codemirror_mode": {
    "name": "ipython",
    "version": 3
   },
   "file_extension": ".py",
   "mimetype": "text/x-python",
   "name": "python",
   "nbconvert_exporter": "python",
   "pygments_lexer": "ipython3",
   "version": "3.10.7"
  },
  "orig_nbformat": 4,
  "vscode": {
   "interpreter": {
    "hash": "aee8b7b246df8f9039afb4144a1f6fd8d2ca17a180786b69acc140d282b71a49"
   }
  }
 },
 "nbformat": 4,
 "nbformat_minor": 2
}
