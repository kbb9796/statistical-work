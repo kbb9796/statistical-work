{
 "cells": [
  {
   "cell_type": "code",
   "execution_count": 1,
   "metadata": {},
   "outputs": [
    {
     "ename": "FileNotFoundError",
     "evalue": "[Errno 2] No such file or directory: 'warAndPeace.txt'",
     "output_type": "error",
     "traceback": [
      "\u001b[0;31m---------------------------------------------------------------------------\u001b[0m",
      "\u001b[0;31mFileNotFoundError\u001b[0m                         Traceback (most recent call last)",
      "\u001b[0;32m<ipython-input-1-cfd607579988>\u001b[0m in \u001b[0;36m<module>\u001b[0;34m\u001b[0m\n\u001b[1;32m     17\u001b[0m         '\\n', '\\t', 'à', 'ä', 'é', 'ê']\n\u001b[1;32m     18\u001b[0m \u001b[0;34m\u001b[0m\u001b[0m\n\u001b[0;32m---> 19\u001b[0;31m \u001b[0;32mwith\u001b[0m \u001b[0mopen\u001b[0m\u001b[0;34m(\u001b[0m\u001b[0mfilepath\u001b[0m\u001b[0;34m,\u001b[0m \u001b[0;34m'r'\u001b[0m\u001b[0;34m)\u001b[0m \u001b[0;32mas\u001b[0m \u001b[0mfile\u001b[0m\u001b[0;34m:\u001b[0m\u001b[0;34m\u001b[0m\u001b[0;34m\u001b[0m\u001b[0m\n\u001b[0m\u001b[1;32m     20\u001b[0m \u001b[0;34m\u001b[0m\u001b[0m\n\u001b[1;32m     21\u001b[0m     \u001b[0mtext\u001b[0m \u001b[0;34m=\u001b[0m \u001b[0mfile\u001b[0m\u001b[0;34m.\u001b[0m\u001b[0mread\u001b[0m\u001b[0;34m(\u001b[0m\u001b[0;34m)\u001b[0m\u001b[0;34m.\u001b[0m\u001b[0mlower\u001b[0m\u001b[0;34m(\u001b[0m\u001b[0;34m)\u001b[0m\u001b[0;34m\u001b[0m\u001b[0;34m\u001b[0m\u001b[0m\n",
      "\u001b[0;31mFileNotFoundError\u001b[0m: [Errno 2] No such file or directory: 'warAndPeace.txt'"
     ]
    }
   ],
   "source": [
    "## Stanford MCMC decoding\n",
    "\n",
    "import numpy as np\n",
    "import matplotlib.pyplot as plt\n",
    "\n",
    "## Idea is to first get some sort of prior distribution for how likely characters are to follow each other\n",
    "## If you are working with a simple substitution cipher i.e. one character = another character, one to one correspondence\n",
    "\n",
    "# So, need to download some massive text document, and record how likely it is for one character to follow another\n",
    "# Need program to record the counts and put this into a transition matrix\n",
    "\n",
    "filepath = 'warAndPeace.txt'\n",
    "\n",
    "# Define the characters or patterns you want to replace with spaces\n",
    "charactersToReplace = ['\"', \"'\", '--', '!', '@', '#', '$', '%', '^', '&', '*', '(', ')', \\\n",
    "    '-', '_', '=', '+', '[', ']', '{', '}', ';', ':', ',', '.', '/', '?', '<', '>', '|', \\\n",
    "        '\\n', '\\t', 'à', 'ä', 'é', 'ê']\n",
    "\n",
    "with open(filepath, 'r') as file:\n",
    "\n",
    "    text = file.read().lower()\n",
    "    text = ''.join(' ' if char in charactersToReplace else char for char in text) # Replace characters with spaces using a generator expression\n",
    "    text = ''.join(char for char in text if not char.isdigit())\n",
    "\n",
    "textArray = np.array(list(text))\n",
    "uniqueCharacters = np.unique(textArray)\n",
    "\n",
    "# Now that we have removed all of the unwanted characters from the text, we can count the transitions\n",
    "\n",
    "epsilon = .00001\n",
    "transitionMatrix = np.zeros([len(uniqueCharacters), len(uniqueCharacters)]) + epsilon\n",
    "numCharacters = 3000000\n",
    "\n",
    "for charIndex in range(numCharacters):\n",
    "\n",
    "    currentChar = text[charIndex]\n",
    "    nextChar = text[charIndex + 1]\n",
    "    tempTransitionRow = np.where(currentChar == uniqueCharacters)\n",
    "    tempTransitionCol = np.where(nextChar == uniqueCharacters)\n",
    "    transitionMatrix[tempTransitionRow, tempTransitionCol] += 1\n",
    "\n",
    "# Normalizing\n",
    "\n",
    "for iiRow in range(np.shape(transitionMatrix)[0]):\n",
    "\n",
    "    transitionMatrix[iiRow, :] = transitionMatrix[iiRow, :] / np.sum(transitionMatrix[iiRow, :])\n"
   ]
  },
  {
   "cell_type": "code",
   "execution_count": null,
   "metadata": {},
   "outputs": [],
   "source": [
    "plt.plot(np.array(range(np.shape(transitionMatrix)[0])), np.sum(transitionMatrix, 1), color = 'red')"
   ]
  },
  {
   "cell_type": "code",
   "execution_count": 35,
   "metadata": {},
   "outputs": [
    {
     "name": "stdout",
     "output_type": "stream",
     "text": [
      "klzwklbfzxbvedvbraerbeiibgzmlivbewlbfembforbvzglbewlbovl oibesmbeszralwb egzovbgeralgercjcesbvedvbraerbcsbkzmbplbrwovrbforbltlwdzslblivlbgovrbfwcskbmere\n",
      "george box says that all models are bad but some are useful and another famous mathematician says that in god we trust but everyone else must bring data\n"
     ]
    }
   ],
   "source": [
    "## Now that we have the transition matrix, we can calculate the plausibility/likelihood of each coded text\n",
    "# First create a simple substitution cypher\n",
    "\n",
    "import random\n",
    "import numpy as np\n",
    "import sys \n",
    "\n",
    "alphabet = ' abcdefghijklmnopqrstuvwxyz'\n",
    "\n",
    "def makeRandomKey():\n",
    "\n",
    "    tempList = list(alphabet)\n",
    "    random.shuffle(tempList)\n",
    "    randomKey = dict(zip(alphabet, tempList))\n",
    "\n",
    "    return randomKey\n",
    "\n",
    "#textString = 'in god we trust all others must bring data and all models are wrong but some are useful and there is no such thing as a causal effect'\n",
    "textString = 'it was as if a light had been lit in a carked and vainted lanter and the intricate smillful artistic worm on its sides the selection of the best paterials and the exvert wormpanshiv of its construction were brought out by the light but the light was too intense and his eyes shone with it'\n",
    "cypherKey = makeRandomKey()\n",
    "\n",
    "# Use the cypher on the string\n",
    "cypher = []\n",
    "\n",
    "for charIndex in range(len(textString)):\n",
    "\n",
    "    currentChar = textString[charIndex]\n",
    "    tempTargetChar = cypherKey[currentChar]\n",
    "    cypher.append(tempTargetChar)\n",
    "\n",
    "cypher = ''.join(cypher)\n",
    "\n",
    "## Using your deciphering method for a known cypher\n",
    "\n",
    "numChars = len(cypher)\n",
    "decodedCypher = []\n",
    "\n",
    "for jjChar in range(numChars):\n",
    "\n",
    "    tempChar = cypher[jjChar]\n",
    "    tempDecodedLetter = [key for key, value in cypherKey.items() if value == tempChar][0]\n",
    "    decodedCypher.append(tempDecodedLetter[0])\n",
    "\n",
    "decodedCypher = ''.join(decodedCypher)\n",
    "print(cypher)\n",
    "print(decodedCypher)\n",
    "machineEpsilon = sys.float_info.epsilon\n"
   ]
  },
  {
   "cell_type": "code",
   "execution_count": 36,
   "metadata": {},
   "outputs": [
    {
     "name": "stdout",
     "output_type": "stream",
     "text": [
      "{' ': 'w', 'a': 'a', 'b': 'o', 'c': 'k', 'd': 'f', 'e': 'e', 'f': 'i', 'g': 'm', 'h': 'd', 'i': 'b', 'j': 't', 'k': 's', 'l': ' ', 'm': 'q', 'n': 'u', 'o': 'j', 'p': 'l', 'q': 'g', 'r': 'n', 's': 'p', 't': 'c', 'u': 'h', 'v': 'y', 'w': 'r', 'x': 'z', 'y': 'v', 'z': 'x'}\n",
      "{' ': 'w', 'a': 'a', 'b': 'o', 'c': 'k', 'd': 'f', 'e': 'e', 'f': 'i', 'g': 'm', 'h': 'd', 'i': 'b', 'j': 't', 'k': 's', 'l': 'p', 'm': 'q', 'n': 'u', 'o': 'j', 'p': 'l', 'q': 'g', 'r': 'n', 's': ' ', 't': 'c', 'u': 'h', 'v': 'y', 'w': 'r', 'x': 'z', 'y': 'v', 'z': 'x'}\n"
     ]
    }
   ],
   "source": [
    "def proposeNewKey(key):\n",
    "\n",
    "    pair = random.sample(alphabet, 2)\n",
    "    newKey = dict(key)\n",
    "    newKey[pair[0]] = key[pair[1]]\n",
    "    newKey[pair[1]] = key[pair[0]]\n",
    "\n",
    "    return newKey\n",
    "\n",
    "exampleKey = makeRandomKey()\n",
    "proposedKey = proposeNewKey(exampleKey)\n",
    "\n",
    "print(exampleKey)\n",
    "print(proposedKey)\n",
    "\n",
    "# Consider changing the transition matrix to a dictionary of character pairs as well and the value is the probability "
   ]
  },
  {
   "cell_type": "code",
   "execution_count": 37,
   "metadata": {},
   "outputs": [
    {
     "name": "stdout",
     "output_type": "stream",
     "text": [
      "obcwobjlcdjutruj pt jtxxjfchbxujtwbjlthjlg jucfbjtwbjgubkgxjtnhjtnc pbwjktfcgujft pbft vsvtnjutruj pt jvnjochjibj wgu jlg jbabwrcnbjbxubjfgu jlwvnojht t\n",
      "yeolye bog tapt smas arr wodert ale bad bus towe ale utecur and anosmel cawout wasmewasifian tapt smas in yod he sluts bus evelpone erte wuts bliny dasa\n",
      "ceorce bow says that all models are bad but some are useful and another famous mathematigian says that in cod pe trust but everyone else must brinc data\n",
      "geolge bof says that arr moders ale bad but some ale usecur and anothel camous mathemativian says that in god we tlust but epelyone erse must bling data\n",
      "geolge bom says that arr woders ale bad but sowe ale usefur and anothel fawous wathewatician says that in god ke tlust but evelyone erse wust bling data\n",
      "deolde bow says that arr cofers ale baf but soce ale usemur anf anothel macous cathecatikian says that in dof ge tlust but evelyone erse cust blind fata\n",
      "george bok says that all wodels are bad but sowe are usepul and another pawous wathewatician says that in god me trust but everyone else wust bring data\n",
      "george bof says that all models are bad but some are usecul and another camous mathematizian says that in god we trust but everyone else must bring data\n",
      "deolde bok says that arr pofers ale baf but sope ale usemur anf anothel mapous pathepatizian says that in dof je tlust but evelyone erse pust blind fata\n",
      "ceolce bof says that arr moders ale bad but some ale usepur and anothel pamous mathematikian says that in cod we tlust but evelyone erse must blinc data\n"
     ]
    }
   ],
   "source": [
    "## Now you can use the algorithm to start decoding\n",
    "\n",
    "## THE PROBLEM IS THAT YOU ARE ACCEPTING EVERY CANDIDATE MOVE\n",
    "# THE ISSUE MAY BE WITH THE COPY INSTANCE? MAKE SURE YOU ARE PROPERLY CHANGING TARGET CHARACTERS\n",
    "\n",
    "numIterations = 50000\n",
    "numChars = len(cypher)\n",
    "codeSpace = makeRandomKey()\n",
    "accept = np.zeros([numIterations])\n",
    "acceptanceProbabilities = np.zeros([numIterations])\n",
    "plausibility = np.zeros([numIterations])\n",
    "\n",
    "for iiIteration in range(numIterations):\n",
    "\n",
    "    tempTransitionProbs = np.zeros([numChars - 1, 1])\n",
    "\n",
    "    for jjChar in range(numChars - 1):\n",
    "\n",
    "        currentChar = cypher[jjChar]\n",
    "        nextChar = cypher[jjChar + 1]\n",
    "        rowIndex = np.where(uniqueCharacters == [key for key, value in codeSpace.items() if value == currentChar])[0][0]\n",
    "        columnIndex = np.where(uniqueCharacters == [key for key, value in codeSpace.items() if value == nextChar])[0][0]\n",
    "        tempTransitionProbs[jjChar] = transitionMatrix[rowIndex, columnIndex]\n",
    "\n",
    "    for jjProb in range(np.size(tempTransitionProbs)):\n",
    "\n",
    "        if tempTransitionProbs[jjProb] < machineEpsilon:\n",
    "\n",
    "            tempTransitionProbs[jjProb] = machineEpsilon\n",
    "\n",
    "    currentPlausibility = np.sum(np.log(tempTransitionProbs))\n",
    "    plausibility[iiIteration] = currentPlausibility\n",
    "\n",
    "    # MIGHT BE A PROBLEM WITH HOW YOU ARE TREATING CANDIDATE = TARGET, MUTABLE?\n",
    "\n",
    "    candidateCodeSpace = proposeNewKey(codeSpace)\n",
    "    candidateTransitionProbs = np.zeros([numChars - 1, 1])\n",
    "\n",
    "    for jjChar in range(numChars - 1):\n",
    "\n",
    "        currentChar = cypher[jjChar]\n",
    "        nextChar = cypher[jjChar + 1]\n",
    "        rowIndex = np.where(uniqueCharacters == [key for key, value in candidateCodeSpace.items() if value == currentChar])[0][0]\n",
    "        columnIndex = np.where(uniqueCharacters == [key for key, value in candidateCodeSpace.items() if value == nextChar])[0][0]\n",
    "        candidateTransitionProbs[jjChar] = transitionMatrix[rowIndex, columnIndex]\n",
    "\n",
    "    for jjProb in range(np.size(tempTransitionProbs)):\n",
    "\n",
    "        if candidateTransitionProbs[jjProb] < machineEpsilon:\n",
    "\n",
    "            candidateTransitionProbs[jjProb] = machineEpsilon\n",
    "\n",
    "    candidatePlausibility = np.sum(np.log(candidateTransitionProbs))\n",
    "    logDifference = candidatePlausibility - currentPlausibility\n",
    "    \n",
    "    if logDifference >= 0:\n",
    "\n",
    "        acceptanceProb = 1\n",
    "\n",
    "    else:\n",
    "\n",
    "        acceptanceProb = np.exp(logDifference)\n",
    "\n",
    "    u = np.random.uniform()\n",
    "    acceptanceProbabilities[iiIteration] = acceptanceProb\n",
    "\n",
    "    if u < acceptanceProb:\n",
    "\n",
    "        accept[iiIteration] = 1\n",
    "        codeSpace = candidateCodeSpace\n",
    "\n",
    "    # Decode the message\n",
    "\n",
    "    if np.mod(iiIteration, 5000) == 0:\n",
    "\n",
    "        mcmcDecodedCypher = []\n",
    "\n",
    "        for jjChar in range(numChars):\n",
    "\n",
    "            tempChar = cypher[jjChar]\n",
    "            tempDecodedLetter = [key for key, value in codeSpace.items() if value == tempChar][0]\n",
    "            mcmcDecodedCypher.append(tempDecodedLetter[0])\n",
    "\n",
    "        mcmcDecodedCypher = ''.join(mcmcDecodedCypher)\n",
    "        print(mcmcDecodedCypher)\n",
    "\n",
    "\n"
   ]
  },
  {
   "cell_type": "code",
   "execution_count": 30,
   "metadata": {},
   "outputs": [
    {
     "name": "stdout",
     "output_type": "stream",
     "text": [
      "it was as if a light had been lit in a carked and vainted lanter and the intricate smillful artistic worm on its sides the selection of the best paterials and the exvert wormpanshiv of its construction were brought out by the light but the light was too intense and his eyes shone with it\n",
      "it was as if a light had been lit in a carved and painted lanter and the intricate skillful artistic work on its sides the selection of the best materials and the expert workmanship of its construction were brought out by the light but the light was too intense and his eyes shone with it\n",
      "[0.e+00 2.e-05 0.e+00 ... 0.e+00 0.e+00 0.e+00]\n"
     ]
    }
   ],
   "source": [
    "numChars = len(cypher)\n",
    "knownDecodedCypher = []\n",
    "\n",
    "for jjChar in range(numChars):\n",
    "\n",
    "    tempChar = cypher[jjChar]\n",
    "    tempDecodedLetter = [key for key, value in cypherKey.items() if value == tempChar][0]\n",
    "    knownDecodedCypher.append(tempDecodedLetter[0])\n",
    "\n",
    "knownDecodedCypher = ''.join(knownDecodedCypher)\n",
    "\n",
    "print(mcmcDecodedCypher)\n",
    "print(knownDecodedCypher)\n",
    "print(accept / numIterations)"
   ]
  },
  {
   "cell_type": "code",
   "execution_count": 34,
   "metadata": {},
   "outputs": [
    {
     "data": {
      "image/png": "[encoded data removed]",
      "text/plain": [
       "<Figure size 640x480 with 1 Axes>"
      ]
     },
     "metadata": {},
     "output_type": "display_data"
    },
    {
     "data": {
      "text/plain": [
       "Text(0.5, 1.0, 'Cumulative Proportion of Accepting Candidate Key')"
      ]
     },
     "execution_count": 34,
     "metadata": {},
     "output_type": "execute_result"
    },
    {
     "data": {
      "image/png": "[encoded data removed]",
      "text/plain": [
       "<Figure size 640x480 with 1 Axes>"
      ]
     },
     "metadata": {},
     "output_type": "display_data"
    }
   ],
   "source": [
    "## Add a couple graphs --- namely, plausibility vs iteration, and the cumulative acceptance rate over time (i.e. percentage of iterations that have been accepted up until that point)\n",
    "\n",
    "# Plausibility \n",
    "\n",
    "plt.plot(list(range(numIterations)), plausibility, color = 'r')\n",
    "plt.xlabel('Iteration')\n",
    "plt.ylabel('Likelihood')\n",
    "plt.title('Likelihood of Current Decryption Key over Time')\n",
    "plt.show()\n",
    "\n",
    "cumSumAccept = np.cumsum(accept)\n",
    "cumProportion = cumSumAccept / list(range(1, numIterations + 1))\n",
    "# plot\n",
    "\n",
    "\n",
    "plt.plot(list(range(1, numIterations + 1)), acceptanceProbabilities, color = 'r')\n",
    "plt.xlabel('Iteration')\n",
    "plt.ylabel('Proportion')\n",
    "plt.title('Cumulative Proportion of Accepting Candidate Key')"
   ]
  }
 ],
 "metadata": {
  "kernelspec": {
   "display_name": "Python 3",
   "language": "python",
   "name": "python3"
  },
  "language_info": {
   "codemirror_mode": {
    "name": "ipython",
    "version": 3
   },
   "file_extension": ".py",
   "mimetype": "text/x-python",
   "name": "python",
   "nbconvert_exporter": "python",
   "pygments_lexer": "ipython3",
   "version": "3.8.8"
  },
  "orig_nbformat": 4,
  "vscode": {
   "interpreter": {
    "hash": "aee8b7b246df8f9039afb4144a1f6fd8d2ca17a180786b69acc140d282b71a49"
   }
  }
 },
 "nbformat": 4,
 "nbformat_minor": 2
}
