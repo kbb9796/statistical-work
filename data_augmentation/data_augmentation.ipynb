{
 "cells": [
  {
   "cell_type": "markdown",
   "metadata": {},
   "source": [
    "# Data augmentation\n",
    "\n",
    "The data augmentation algorithm serves two purposes: (1) to simplify the form of an intractable or unwieldy posterior distribution, or (2) better approximate the posterior in cases where we have \"incomplete\" data. Here, I demonstrate the former using an example adapted from Tanner, 1996. \n",
    "\n",
    "## Simplifying the form of a posterior distribution\n",
    "\n",
    "As is the case for all implementations of data augmentation, we \"complete\" or augment the observed data with latent variables. Using both the observed and latent variables (the combination of which is referred to as augmented data), we update our approximation to the posterior distribution. We repeat these two steps until the posterior converges. A concrete example best demonstrates this process. \n",
    "\n",
    "We consider the genetic linkage model. Suppose 197 animals are distributed into four categories as follows: $$y = (y_{1}, y_{2}, y_{3}, y_{4}) = (125, 18, 20, 34)$$ with cell probabilities $$(\\frac{1}{2} + \\frac{\\theta}{4}, \\frac{1 - \\theta}{4}, \\frac{1 - \\theta}{4}, \\frac{\\theta}{4}).$$ Under a flat prior, the posterior distribution is $$p(\\theta | y) \\propto (2 + \\theta)^{y_{1}}(1 - \\theta)^{y_{2} + y_{3}}\\theta^{y_4}.$$ Evaluating expectations of this function might be too complex for our liking. We should sample it instead. However, we have no way to sample this distribution directly either. We can simplify its form with data augmentation. \n",
    "\n",
    "We augment the observed data $y$ with a latent variable $x$. We construct $x$ by spliting the first cell of $y$ into two cells. Specifically, $$y_{1} = x_{1} + x_{2}$$  $$y_{2} = x_{3}$$ $$y_{3} = x_{4}$$ $$y_{4} = x_{5}$$ where $x$ has cell probabilities $$(\\frac{1}{2}, \\frac{\\theta}{4}, \\frac{1 - \\theta}{4}, \\frac{1 - \\theta}{4}, \\frac{\\theta}{4}).$$ Under a flat prior, the augmented posterior distribution is given by $$p(\\theta | x) \\propto \\theta^{x_{2} + x_{5}}(1 - \\theta)^{x_{3} + x_{4}}.$$ The augmented posterior admits a much simpler form. In fact, the augmented posterior is a beta distribution, which yields tractable expectations and direct sampling! But it depends on the latent variable $x_{2}$ which we have not observed yet. So, we must sample the conditional predictive distribution for $x_{2}$.\n",
    " \n",
    "The conditional predictive distribution for $x_{2}$ is given by $$x_{2} \\sim Binom(n = y_{1}, p = \\frac{\\theta}{\\theta + 2}).$$ To be clear, $n$ is the number of counts in $y_{1}$, and $p$ is the probability that a count from $y_{1}$ falls in the $x_{2}$ cell. We compute $p$ by dividing the probability of being in $x_{2}$ by the probability of being in $y_{1}$. \n",
    "\n",
    "Thus, at each iteration of the algorithm, we generate $x_{2}^{(t)}$ from the current conditional predictive distribution plugging in $\\theta^{(t)}$ for $\\theta$. We update the posterior distribution accordingly by plugging in $x_{2}^{(t)}$ into the equation for $p(\\theta | y)$ and sample $\\theta^{(t+1)}$ from the corresponding beta distribution. We repeat these two steps--impute, then update--until the algorithm converges. At that point, we have a sample from the desired posterior distribution!"
   ]
  },
  {
   "cell_type": "code",
   "execution_count": 1,
   "metadata": {},
   "outputs": [
    {
     "name": "stdout",
     "output_type": "stream",
     "text": [
      "Adding labels\n"
     ]
    },
    {
     "data": {
      "image/png": "[encoded data removed]",
      "text/plain": [
       "<Figure size 432x288 with 1 Axes>"
      ]
     },
     "metadata": {
      "needs_background": "light"
     },
     "output_type": "display_data"
    }
   ],
   "source": [
    "import numpy as np\n",
    "import random\n",
    "import matplotlib.pyplot as plt\n",
    "from scipy.stats import norm\n",
    "\n",
    "y1, y2, y3, y4 = [125, 18, 20, 34]\n",
    "\n",
    "numIterations = 100\n",
    "numImputations = 5000\n",
    "posteriorApproximations = np.zeros([numIterations, numImputations])\n",
    "randomIndices = random.choices(range(numImputations), k = numIterations)\n",
    "currentTheta = np.random.uniform(0, 1, numImputations)\n",
    "\n",
    "for iiIteration in range(numIterations):\n",
    "\n",
    "    # Generate m imputations / latent variables from the current posterior distribution (represented by a sample of thetas not just one theta)\n",
    "\n",
    "    currentImputations = np.zeros([numImputations])\n",
    "\n",
    "    for jjImputation in range(numImputations):\n",
    "\n",
    "        thetaStar = currentTheta[jjImputation]\n",
    "        currentImputations[jjImputation] = np.random.binomial(y1, thetaStar / (thetaStar + 2), 1)\n",
    "\n",
    "    # Now sample theta star from Beta(v1, v2) where v1 = x2 + y4 + 1 and v2 = y2 + y3\n",
    "\n",
    "    for jjImputation in range(numImputations):\n",
    "\n",
    "        currentLatentVariable = currentImputations[random.randint(0, numImputations - 1)] # drawn from the conditional predictive distribution given the current approximation to the posterior\n",
    "        currentTheta[jjImputation] = np.random.beta(currentLatentVariable + y4 + 1, y2 + y3 + 1, 1) # sampling the current approximation to the posterior\n",
    "        # (which of course depends on the latent variables that in turn depend on the previous approximation to the posterior)\n",
    "        posteriorApproximations[iiIteration, jjImputation] = currentTheta[jjImputation]\n",
    "\n",
    "\n",
    "## Plot the true posterior distribution as well \n",
    "        \n",
    "theta = np.linspace(0, 1, 10000)\n",
    "trueDensity = ((2 + theta) ** y1) * ((1 - theta) ** (y2 + y3)) * (theta ** y4)\n",
    "\n",
    "# Normalize the true density \n",
    "\n",
    "deltaTheta = theta[1] - theta[0]\n",
    "normalizingConstant = np.sum(deltaTheta * trueDensity)\n",
    "trueDensity = trueDensity / normalizingConstant\n",
    "\n",
    "posteriorSample = currentTheta\n",
    "plt.hist(posteriorSample, density = True, color = 'skyblue', edgecolor = 'black')\n",
    "plt.plot(theta, trueDensity, color = 'black', label = 'True posterior')\n",
    "print('Adding labels')\n",
    "plt.rc('text', usetex = True)\n",
    "plt.xlabel('$\\\\theta$')\n",
    "plt.ylabel('Density')\n",
    "plt.title('Augmented Posterior Distribution for $\\\\theta$')\n",
    "plt.legend()\n",
    "plt.show()\n",
    "\n",
    "quantiles = np.array([.025, .50, .975])\n",
    "convergenceQuantiles = np.quantile(posteriorApproximations, quantiles, axis = 1) \n"
   ]
  },
  {
   "cell_type": "markdown",
   "metadata": {},
   "source": [
    "We can see that the sample from the augmented posterior agrees well with the true analytical posterior. We have made use of the fact that we can easily sample a simplified posterior distribution by augmenting the observed data with latent variables. An animated sample from the final augmented posterior and conditional predictive distribution is shown below to emphasize the interdependence between the augmenting and updating steps. The sample for $\\theta$ is shown in black, $x_{2}$ in red. "
   ]
  },
  {
   "cell_type": "code",
   "execution_count": 2,
   "metadata": {},
   "outputs": [
    {
     "name": "stdout",
     "output_type": "stream",
     "text": [
      "Saving images to write to gif\n",
      "Writing gif\n"
     ]
    }
   ],
   "source": [
    "# Theta sampler gif\n",
    "\n",
    "theta_sample = posteriorApproximations[-1, :].flatten()\n",
    "augmented_sample = currentImputations\n",
    "\n",
    "import imageio\n",
    "\n",
    "num_images = 100\n",
    "image_nums = [int(temp_image) for temp_image in np.linspace(0, np.size(theta_sample), num_images)]\n",
    "print('Saving images to write to gif')\n",
    "\n",
    "for ii_index, ii_image in enumerate(image_nums):\n",
    "\n",
    "    fig, ax1 = plt.subplots()\n",
    "    ax1.set_xlabel('Imputation')\n",
    "    ax1.set_ylabel('$\\\\theta$', color = 'black')\n",
    "    ax1.plot(theta_sample[:ii_image], color = 'black')\n",
    "    ax1.set_ylim([0, 1])\n",
    "    ax1.set_xlim([0, numImputations])\n",
    "\n",
    "    ax2 = ax1.twinx()\n",
    "    ax2.set_ylabel('Augmented $x_{2}$', color = 'red')\n",
    "    ax2.plot(augmented_sample[:ii_image], color = 'red')\n",
    "    ax2.set_ylim([0, 125])\n",
    "    plt.suptitle('Samples from Posterior and Conditional Predictive Distribution')\n",
    "    plt.savefig(f'theta_sampler/temp_fig{ii_index:.0f}.png')\n",
    "    plt.close()\n",
    "\n",
    "images = []\n",
    "filenames = [f'theta_sampler/temp_fig{ii_image:.0f}.png' for ii_image in range(num_images)]\n",
    "\n",
    "for filename in filenames:\n",
    "\n",
    "    images.append(imageio.imread(filename))\n",
    "\n",
    "print('Writing gif')\n",
    "imageio.mimsave('theta_sampler.gif', images)"
   ]
  },
  {
   "cell_type": "markdown",
   "metadata": {},
   "source": [
    "![theta sampler animation](theta_sampler.gif)\n",
    "\n",
    "We can also see that the posterior distribution converges in just a handful of iterations below. Only in the first few iterations does the posterior meaningfully change. "
   ]
  },
  {
   "cell_type": "code",
   "execution_count": 3,
   "metadata": {},
   "outputs": [
    {
     "data": {
      "image/png": "[encoded data removed]",
      "text/plain": [
       "<Figure size 432x288 with 1 Axes>"
      ]
     },
     "metadata": {
      "needs_background": "light"
     },
     "output_type": "display_data"
    }
   ],
   "source": [
    "colors = np.array(['blue', 'red', 'green'])\n",
    "labels = np.array(['.025 quantile', '.50 quantile', '.975 quantile'])\n",
    "\n",
    "for iiQuantile in range(len(quantiles)):\n",
    "\n",
    "    plt.plot(convergenceQuantiles[iiQuantile, :], color = colors[iiQuantile], label = labels[iiQuantile])\n",
    "\n",
    "plt.xlabel('Iteration')\n",
    "plt.rc('text', usetex = True)\n",
    "plt.ylabel('$\\\\theta$')\n",
    "plt.title('Convergence of Posterior Distribution')\n",
    "plt.legend()\n",
    "plt.show()"
   ]
  },
  {
   "cell_type": "markdown",
   "metadata": {},
   "source": [
    "## Better approximating posterior with right-censored data\n",
    "\n",
    "Now, moving to the second application of data augmentation, I demonstrate how to better approximate a posterior in cases where we have \"missing\" or \"incomplete\" data.  \n",
    "\n",
    "Our data set is comprised of descriptory statistics for patients who recently had heart transplants. These statistics include how long the patient survived after the heart transplant, and how old the patient was on the day of the transplant. We want to regress log survival time onto age. However, our data set is fairly incomplete: many patients did not die before the end of the study. Since we don't know the true value of their survival time (it will continue to change until they die), we can't incorporate this data into our regression. Using the data augmentation algorithm, we can fill in the missing data and incorporate it into our regression. In fact, doing so will better approximate the joint posterior of the linear regression parameters. The method and data are adapted from Tanner, 1996. We truncate the data intentionally to show the effects of data augmentation in a small sample setting. \n",
    "\n",
    "As explained previously, the algorithm works iteratively. To recap, at each iteration, we augment the observed (but incomplete) data by generating our best guess for the values of the missing data. In our case, we do so by generating the residuals for patients who survived longer than the length of the study, conditional on the fact that the residual must be more positive than what we currently observe. We then add these \"imputed\" residuals to the recorded log survival time to complete the data. Then, we run our regression and update the approximation to the posterior distribution. We repeat these steps until the posterior converges. In the end, we have a sample from a better approximation to the posterior. "
   ]
  },
  {
   "cell_type": "code",
   "execution_count": 4,
   "metadata": {},
   "outputs": [],
   "source": [
    "## Import packages and set up parameters\n",
    "\n",
    "import pandas as pd\n",
    "import numpy as np\n",
    "import random\n",
    "from sklearn.linear_model import LinearRegression\n",
    "import matplotlib.pyplot as plt\n",
    "\n",
    "stanfordHeartData = pd.read_csv('heart_transplant.csv') # Load data in \n",
    "\n",
    "## Regressing log survival time on age to get sample variance of residuals\n",
    "\n",
    "aliveIndices = stanfordHeartData.index[stanfordHeartData['survived'] == 'alive'].tolist()\n",
    "deadIndices = stanfordHeartData.index[stanfordHeartData['survived'] == 'dead'].tolist()\n",
    "\n",
    "# Truncate data\n",
    " \n",
    "truncatedAlive = 28\n",
    "truncatedDead = 28\n",
    "aliveIndices = random.sample(aliveIndices, truncatedAlive)\n",
    "deadIndices = random.sample(deadIndices, truncatedDead)\n",
    "deadSurvivalTimes = stanfordHeartData['survtime'][deadIndices]\n",
    "logDeadSurvivalTimes = np.array(np.log(deadSurvivalTimes))\n",
    "deadAge = np.array(stanfordHeartData['age'][deadIndices])\n",
    "aliveCensoredEventTimes = stanfordHeartData['survtime'][aliveIndices]\n",
    "logAliveCensoredEventTimes = np.array(np.log(aliveCensoredEventTimes))\n",
    "aliveAge = np.array(stanfordHeartData['age'][aliveIndices])\n",
    "numCensoredEventTimes = len(aliveCensoredEventTimes)\n",
    "allAge = np.append(deadAge.reshape(-1, 1), aliveAge.reshape(-1, 1), 0)\n",
    "model = LinearRegression()\n",
    "\n",
    "# Reshape arrays\n",
    "\n",
    "deadAgeReshaped = deadAge.reshape(-1, 1)\n",
    "logDeadSurvivalTimesReshaped = logDeadSurvivalTimes.reshape(-1, 1)\n",
    "model.fit(deadAgeReshaped, logDeadSurvivalTimesReshaped)\n",
    "init_beta_0 = model.intercept_[0]\n",
    "init_beta_1 = model.coef_[0][0]\n",
    "yHat = model.predict(deadAgeReshaped)\n",
    "residuals = yHat - logDeadSurvivalTimesReshaped # Flatten  predicted values\n",
    "nonAugmentedResidualVariance = np.var(residuals)"
   ]
  },
  {
   "cell_type": "code",
   "execution_count": 5,
   "metadata": {},
   "outputs": [
    {
     "name": "stdout",
     "output_type": "stream",
     "text": [
      "Iteration:  0\n",
      "Iteration:  10\n",
      "Iteration:  20\n"
     ]
    }
   ],
   "source": [
    "# Draw error variance from chi square distribution\n",
    "\n",
    "numObservedData = len(deadSurvivalTimes)\n",
    "numIterations = 30\n",
    "numImputations = 5000\n",
    "currentResidualVariance = (numObservedData - 1) * nonAugmentedResidualVariance / np.random.chisquare(numObservedData - 1, numImputations)\n",
    "designMatrix = np.ones([numObservedData, 2])\n",
    "designMatrix[:, 1] = deadAgeReshaped.flatten()\n",
    "posteriorsOverIterations = np.zeros([numIterations, numImputations, 3])\n",
    "posteriorsOverIterations[0, :, -1] = currentResidualVariance.reshape(-1, 1).flatten()\n",
    "numTotalDatapoints = len(stanfordHeartData['age'])\n",
    "conditionalErrors = np.zeros([numIterations, numCensoredEventTimes])\n",
    "predictedErrors = np.zeros([numIterations, numCensoredEventTimes])\n",
    "\n",
    "\n",
    "# Initialize the approximation to the posterior distribution by sampling the error variance\n",
    "# from the linear regression model that does not include the incomplete data\n",
    "\n",
    "for iiImputation in range(numImputations):\n",
    "\n",
    "    varStar = currentResidualVariance[iiImputation]\n",
    "    covarianceMatrix = np.linalg.inv(varStar * designMatrix.T @ designMatrix) \n",
    "    tempBetaStars = np.random.multivariate_normal([init_beta_0, init_beta_1], covarianceMatrix, 1).reshape(1, -1)\n",
    "    posteriorsOverIterations[0, iiImputation, 0:2] = tempBetaStars\n",
    "\n",
    "\n",
    "## Now that you have initialized the posterior approximation, you can start the iterative algorithm\n",
    "\n",
    "augmentedSurvivalTimes = np.zeros([numIterations, numCensoredEventTimes, numImputations]) ## row = data point, column = imputation number\n",
    "quantiles = np.array([.025, .50, .975])\n",
    "convergenceBeta0 = np.zeros([len(quantiles), numIterations])\n",
    "convergenceBeta1 = np.zeros([len(quantiles), numIterations])\n",
    "convergenceSigmaSq = np.zeros([len(quantiles), numIterations])\n",
    "\n",
    "for iiIteration in range(numIterations):\n",
    "\n",
    "    if iiIteration % 10 == 0:\n",
    "\n",
    "        print('Iteration: ', iiIteration)\n",
    "\n",
    "    for jjImputation in range(numImputations):\n",
    "\n",
    "        # Randomly select theta from the mixture of posterior distributions\n",
    "\n",
    "        randomIndex = random.randint(0, numImputations - 1)\n",
    "        beta_0_star, beta_1_star, sigma_sq_star = posteriorsOverIterations[iiIteration, randomIndex, :]\n",
    "\n",
    "        # Generate the augmented data by sampling errors and adding to right censored event time\n",
    "\n",
    "        for kkCensoredEventTime in range(numCensoredEventTimes):\n",
    "\n",
    "            predictedSurvivalTime = (beta_0_star + beta_1_star * aliveAge[kkCensoredEventTime])\n",
    "            norm_predicted_error = (logAliveCensoredEventTimes[kkCensoredEventTime] - predictedSurvivalTime) / np.sqrt(sigma_sq_star)\n",
    "            predictedErrors[iiIteration, kkCensoredEventTime] = norm_predicted_error\n",
    "            conditional_error = np.random.normal()\n",
    "\n",
    "            while conditional_error < norm_predicted_error:\n",
    "\n",
    "                conditional_error = np.random.normal()\n",
    "\n",
    "            conditionalErrors[iiIteration, kkCensoredEventTime] = conditional_error\n",
    "            augmentedSurvivalTimes[iiIteration, kkCensoredEventTime, jjImputation] = logAliveCensoredEventTimes[kkCensoredEventTime] + (conditional_error * np.sqrt(sigma_sq_star))\n",
    "\n",
    "        # Update the approximation to the posterior \n",
    "        # Randomly select the augmented data to use, then do linear regression, then sample error variance, then beta0 and beta1\n",
    "\n",
    "    for jjImputation in range(numImputations):\n",
    "\n",
    "        randomIndex = random.randint(0, numImputations - 1)\n",
    "        tempAugmentedData = augmentedSurvivalTimes[iiIteration, :, randomIndex]\n",
    "        tempAugmentedDesignMatrix = np.append(np.ones([numCensoredEventTimes, 1]), aliveAge.reshape(-1, 1), 1)\n",
    "        tempTotalDesignMatrix = np.append(designMatrix, tempAugmentedDesignMatrix, 0)\n",
    "        tempAugmentedSurvivalTimes = np.append(logDeadSurvivalTimes.reshape(-1, 1), tempAugmentedData.reshape(-1, 1), 0)\n",
    "\n",
    "        model.fit(tempTotalDesignMatrix[:, -1].reshape(-1, 1), tempAugmentedSurvivalTimes)\n",
    "\n",
    "        # The posterior for the betas is normal centered around the least squares estimates with covar matrix inv(sample o^2 * X_T @ X)\n",
    "        \n",
    "        beta0 = model.intercept_[0]\n",
    "        beta1 = model.coef_[0][0]\n",
    "        yHat = model.predict(tempTotalDesignMatrix[:, -1].reshape(-1, 1))\n",
    "        residuals = yHat - tempAugmentedSurvivalTimes\n",
    "        sampleResidualVariance = np.var(residuals)\n",
    "        sigmaSquaredStar = (numTotalDatapoints - 1) * sampleResidualVariance / np.random.chisquare(numTotalDatapoints - 1, 1)\n",
    "\n",
    "        tempCovarianceMatrix = np.linalg.inv(sigmaSquaredStar * tempTotalDesignMatrix.T @ tempTotalDesignMatrix) \n",
    "        betasStar = np.random.multivariate_normal([beta0, beta1], tempCovarianceMatrix, 1).reshape(1, -1)\n",
    "\n",
    "        if iiIteration < numIterations - 1:\n",
    "\n",
    "            posteriorsOverIterations[iiIteration + 1, jjImputation, -1] = sigmaSquaredStar\n",
    "            posteriorsOverIterations[iiIteration + 1, jjImputation, 0:2] = betasStar\n",
    "\n",
    "convergenceBeta0 = np.quantile(posteriorsOverIterations[:, :, 0], quantiles, axis = 0)\n",
    "convergenceBeta1 = np.quantile(posteriorsOverIterations[:, :, 1], quantiles, axis = 0)\n",
    "convergenceSigmaSq = np.quantile(posteriorsOverIterations[:, :, 2], quantiles, axis = 0)"
   ]
  },
  {
   "cell_type": "code",
   "execution_count": 6,
   "metadata": {},
   "outputs": [
    {
     "name": "stdout",
     "output_type": "stream",
     "text": [
      "Saving images to write to gif\n",
      "Writing gif\n"
     ]
    }
   ],
   "source": [
    "# Plot imputations for the last augmented posterior \n",
    "\n",
    "## SAVE THE IMAGES SEPARATELY IN CODE CHUNK BELOW\n",
    "\n",
    "num_images = 200\n",
    "image_nums = [int(temp_image) for temp_image in np.linspace(0, numImputations - 1, num_images)]\n",
    "xlims = [np.min(posteriorsOverIterations[-1, :, 1]) - np.std(posteriorsOverIterations[-1, :, 1]), \n",
    "              np.max(posteriorsOverIterations[-1, :, 1]) + np.std(posteriorsOverIterations[-1, :, 1])]\n",
    "ylims = [np.min(posteriorsOverIterations[-1, :, 0]) - np.std(posteriorsOverIterations[-1, :, 0]), \n",
    "              np.max(posteriorsOverIterations[-1, :, 0]) + np.std(posteriorsOverIterations[-1, :, 0])]\n",
    "x = np.linspace(15, 60, 1000)\n",
    "print('Saving images to write to gif')\n",
    "\n",
    "for ii_index, ii_image in enumerate(image_nums):\n",
    "\n",
    "    # Makes most sense to just plot the imputations, but should show a plot similar to the one showed in Tanner\n",
    "    # That shows the censored event times being augmented by the residual imputations\n",
    "\n",
    "    plt.figure(figsize = (14, 6))\n",
    "    plt.subplot(1, 2, 1)\n",
    "    plt.scatter(aliveAge, augmentedSurvivalTimes[-1, :, ii_image], color = 'red', label = 'Imputed survival time')\n",
    "    plt.scatter(deadAge, logDeadSurvivalTimes, color = 'black', label = 'Known survival time')\n",
    "    tempBeta0 = posteriorsOverIterations[-1, ii_image, 0]\n",
    "    tempBeta1 = posteriorsOverIterations[-1, ii_image, 1]\n",
    "    plt.plot(tempBeta0 + tempBeta1 * x, color = 'red')\n",
    "    plt.xlim(15, 60)\n",
    "    plt.ylim(0, 15)\n",
    "    plt.title('Augmented Survival Times and Corresponding Regression Line')\n",
    "    plt.text(0.95, 0.95, f'Imputation {ii_image}', horizontalalignment='right', \n",
    "             verticalalignment='top', transform=plt.gca().transAxes)\n",
    "    plt.xlabel('Age')\n",
    "    plt.ylabel('Log Survival Time')\n",
    "    plt.legend(loc = 'upper left')\n",
    "\n",
    "    plt.subplot(1, 2, 2)\n",
    "    plt.scatter(posteriorsOverIterations[-1, :ii_image, 1], posteriorsOverIterations[-1, :ii_image, 0], color = 'black')\n",
    "    plt.scatter(posteriorsOverIterations[-1, ii_image, 1], posteriorsOverIterations[-1, ii_image, 0], color = 'red')\n",
    "    plt.xlabel('$\\\\beta_1$')\n",
    "    plt.ylabel('$\\\\beta_0$')\n",
    "    plt.xlim(xlims)\n",
    "    plt.ylim(ylims)\n",
    "    plt.title('Samples from Augmented Joint Posterior')\n",
    "    plt.text(0.95, 0.95, f'Imputation {ii_image}', horizontalalignment='right', \n",
    "             verticalalignment='top', transform=plt.gca().transAxes, fontsize = 'medium')\n",
    "    plt.savefig(f'augmented_survival_times/temp_fig{ii_index:.0f}.png')\n",
    "    plt.close()\n",
    "\n",
    "images = []\n",
    "filenames = [f'augmented_survival_times/temp_fig{ii_image:.0f}.png' for ii_image in range(num_images)]\n",
    "\n",
    "for filename in filenames:\n",
    "\n",
    "    images.append(imageio.imread(filename))\n",
    "\n",
    "print('Writing gif')\n",
    "imageio.mimsave('imputed_survival_times.gif', images)"
   ]
  },
  {
   "cell_type": "markdown",
   "metadata": {},
   "source": [
    "We demonstrate how data augmentation works for a fixed iteration of the algorithm. Over 5000 imputations, the plot on the left shows the augmented survival times in red, and the known survival times in black. The corresponding regression line sampled from the augmented posterior is shown in red as well. It corresponds to the red dot on the right. \n",
    "\n",
    "![theta sampler imputations](imputed_survival_times.gif)"
   ]
  },
  {
   "cell_type": "code",
   "execution_count": 7,
   "metadata": {},
   "outputs": [
    {
     "name": "stdout",
     "output_type": "stream",
     "text": [
      "Saving images to write to gif\n",
      "Writing gif\n"
     ]
    }
   ],
   "source": [
    "## Plot the posterior approximations sequentially by iteration \n",
    "\n",
    "num_images = numIterations\n",
    "image_nums = [int(temp_image) for temp_image in np.linspace(0, numIterations - 1, num_images)]\n",
    "xlims = [np.min(posteriorsOverIterations[:, :, 1]) - 2 * np.std(posteriorsOverIterations[:, :, 1]), \n",
    "              np.max(posteriorsOverIterations[:, :, 1]) + 2 * np.std(posteriorsOverIterations[:, :, 1])]\n",
    "ylims = [np.min(posteriorsOverIterations[:, :, 0]) - 2 * np.std(posteriorsOverIterations[:, :, 0]), \n",
    "              np.max(posteriorsOverIterations[:, :, 0]) + 2 * np.std(posteriorsOverIterations[:, :, 0])]\n",
    "print('Saving images to write to gif')\n",
    "\n",
    "for ii_index, ii_image in enumerate(image_nums):\n",
    "\n",
    "    plt.scatter(posteriorsOverIterations[ii_image, :, 1], posteriorsOverIterations[ii_image, :, 0], color = 'black')\n",
    "    plt.xlabel('$\\\\beta_1$')\n",
    "    plt.ylabel('$\\\\beta_0$')\n",
    "    plt.xlim(xlims)\n",
    "    plt.ylim(ylims)\n",
    "    plt.title('Samples from Augmented Joint Posteriors over Time')\n",
    "    plt.text(0.95, 0.95, f'Iteration {ii_image}', horizontalalignment='right', \n",
    "             verticalalignment='top', transform=plt.gca().transAxes)\n",
    "    plt.savefig(f'theta_sampler_iterations/temp_fig{ii_index:.0f}.png')\n",
    "    plt.close()\n",
    "\n",
    "images = []\n",
    "filenames = [f'theta_sampler_iterations/temp_fig{ii_image:.0f}.png' for ii_image in range(num_images)]\n",
    "\n",
    "for filename in filenames:\n",
    "\n",
    "    images.append(imageio.imread(filename))\n",
    "\n",
    "print('Writing gif')\n",
    "imageio.mimsave('theta_sampler_iterations.gif', images, duration = .25)"
   ]
  },
  {
   "cell_type": "markdown",
   "metadata": {},
   "source": [
    "We also demonstrate below how the augmented posterior changes over each iteration of the algorithm. In our case, the algorithm converges in just a handful of iterations. The augmented posteriors do not change much after the first few iterations. \n",
    "\n",
    "![theta sampler iterations](theta_sampler_iterations.gif)\n",
    "\n",
    "We can see below that the augmented and non-augmented posterior distributions for the y-intercept and the slope are in fact different. The augmented posteriors have increased variance (in both variables), and have substantially different locations. The data augmentation algorithm provides a way to utilize the missing data to our advantage. "
   ]
  },
  {
   "cell_type": "code",
   "execution_count": 8,
   "metadata": {},
   "outputs": [
    {
     "data": {
      "image/png": "[encoded data removed]",
      "text/plain": [
       "<Figure size 864x432 with 1 Axes>"
      ]
     },
     "metadata": {
      "needs_background": "light"
     },
     "output_type": "display_data"
    }
   ],
   "source": [
    "# Plot the joint distribution of beta0 and beta1 together\n",
    "\n",
    "beta0Distribution = posteriorsOverIterations[-1, :, 0]\n",
    "beta1Distribution = posteriorsOverIterations[-1, :, 1]\n",
    "\n",
    "plt.figure(figsize = (12, 6))\n",
    "plt.scatter(beta1Distribution, beta0Distribution, color = 'red', label = 'Augmented')\n",
    "plt.xlabel('$\\\\beta_1$')\n",
    "plt.ylabel('$\\\\beta_0$')\n",
    "plt.title('Joint Posteriors for $\\\\beta_0$ and $\\\\beta_1$')\n",
    "\n",
    "model.fit(deadAgeReshaped, logDeadSurvivalTimesReshaped)\n",
    "beta0 = model.intercept_[0]\n",
    "beta1 = model.coef_[0][0]\n",
    "yHat = model.predict(deadAgeReshaped)\n",
    "residuals = yHat - logDeadSurvivalTimesReshaped # Flatten the predicted values\n",
    "nonAugmentedResidualVariance = np.var(residuals)\n",
    "numSamples = 5000\n",
    "nonAugmentedPosteriorApprox = np.zeros([numSamples, 3])\n",
    "\n",
    "for iiSample in range(numSamples):\n",
    "\n",
    "    nonAugmentedSampleResidualVariance = (numObservedData - 1) * nonAugmentedResidualVariance / np.random.chisquare(numObservedData - 1, 1)\n",
    "    nonAugCovarMatrix = np.linalg.inv(nonAugmentedSampleResidualVariance * designMatrix.T @ designMatrix)\n",
    "    betasStar = np.random.multivariate_normal([beta0, beta1], covarianceMatrix, 1).reshape(1, -1)\n",
    "    nonAugmentedPosteriorApprox[iiSample, 0:2] = betasStar\n",
    "    nonAugmentedPosteriorApprox[iiSample, -1] = nonAugmentedSampleResidualVariance\n",
    "\n",
    "beta0Distribution = nonAugmentedPosteriorApprox[:, 0]\n",
    "beta1Distribution = nonAugmentedPosteriorApprox[:, 1]\n",
    "plt.scatter(beta1Distribution, beta0Distribution, color = 'black', label = 'Nonaugmented')\n",
    "plt.xlabel('$\\\\beta_1$')\n",
    "plt.ylabel('$\\\\beta_0$')\n",
    "plt.legend()\n",
    "plt.show()"
   ]
  },
  {
   "cell_type": "markdown",
   "metadata": {},
   "source": [
    "We plot the mean regression lines from the augmented and non-augmented posterior distributions below to better visualize the difference in location and spread of the two posteriors. "
   ]
  },
  {
   "cell_type": "code",
   "execution_count": 9,
   "metadata": {},
   "outputs": [
    {
     "data": {
      "image/png": "[encoded data removed]",
      "text/plain": [
       "<Figure size 432x288 with 1 Axes>"
      ]
     },
     "metadata": {
      "needs_background": "light"
     },
     "output_type": "display_data"
    }
   ],
   "source": [
    "# Plot the mean regression lines for augmented and nonaugmented posterior distributions\n",
    "\n",
    "x = np.linspace(np.min(deadAge), np.max(deadAge), 1000)\n",
    "meanAugmentedB0 = np.mean(posteriorsOverIterations[-1, :, 0])\n",
    "meanAugmentedB1 = np.mean(posteriorsOverIterations[-1, :, 1])\n",
    "plt.plot(x, meanAugmentedB0 + meanAugmentedB1 * x, color = 'r', label = 'Augmented')\n",
    "plt.xlabel('Age')\n",
    "plt.ylabel('Log Survival Time')\n",
    "plt.title('Mean Regression Lines for Nonaugmented and Augmented Analysis')\n",
    "\n",
    "meanNonaugmentedB0 = np.mean(nonAugmentedPosteriorApprox[:, 0])\n",
    "meanNonaugmentedB1 = np.mean(nonAugmentedPosteriorApprox[:, 1])\n",
    "plt.plot(x, meanNonaugmentedB0 + meanNonaugmentedB1 * x, color = 'blue', label = 'Nonaugmented')\n",
    "plt.legend()\n",
    "plt.xlim(15, 60)\n",
    "plt.ylim(0, 15)\n",
    "plt.show()"
   ]
  },
  {
   "cell_type": "markdown",
   "metadata": {},
   "source": [
    "We sample the augmented and non-augmented marginal posterior distributions below for comparison. The marginals deviate from their respective counterparts slightly but noticeably. "
   ]
  },
  {
   "cell_type": "code",
   "execution_count": 321,
   "metadata": {},
   "outputs": [
    {
     "data": {
      "image/png": "[encoded data removed]",
      "text/plain": [
       "<Figure size 432x288 with 1 Axes>"
      ]
     },
     "metadata": {
      "needs_background": "light"
     },
     "output_type": "display_data"
    },
    {
     "data": {
      "image/png": "[encoded data removed]",
      "text/plain": [
       "<Figure size 432x288 with 1 Axes>"
      ]
     },
     "metadata": {
      "needs_background": "light"
     },
     "output_type": "display_data"
    },
    {
     "data": {
      "image/png": "[encoded data removed]",
      "text/plain": [
       "<Figure size 432x288 with 1 Axes>"
      ]
     },
     "metadata": {
      "needs_background": "light"
     },
     "output_type": "display_data"
    }
   ],
   "source": [
    "augmentedBeta1Posterior = posteriorsOverIterations[-1, :, 1]\n",
    "augmentedBeta0Posterior = posteriorsOverIterations[-1, :, 0]\n",
    "augmentedSigmaSqPosterior = posteriorsOverIterations[-1, :, -1]\n",
    "\n",
    "# Sample the posterior for the nonaugmented data\n",
    "\n",
    "plt.hist(augmentedBeta1Posterior, bins = 30, density = True, color = 'red', edgecolor = 'black', alpha = .5, label = 'augmented')\n",
    "nonAugmentedBeta1Posterior = nonAugmentedPosteriorApprox[:, 1]\n",
    "plt.hist(nonAugmentedBeta1Posterior, bins = 30, density = True, color = 'skyblue', edgecolor = 'black', alpha = .5, label = 'nonaugmented')\n",
    "plt.rc('text', usetex = True)\n",
    "plt.xlabel('$\\\\beta_1$')\n",
    "plt.ylabel('Density')\n",
    "plt.title('Comparing Posterior Distributions for Slope of Linear Regression Model')\n",
    "plt.legend()\n",
    "plt.show()\n",
    "\n",
    "plt.hist(augmentedBeta0Posterior, bins = 30, density = True, color = 'red', edgecolor = 'black', alpha = .5, label = 'augmented')\n",
    "nonAugmentedBeta0Posterior = nonAugmentedPosteriorApprox[:, 0]\n",
    "plt.hist(nonAugmentedBeta0Posterior, bins = 30, density = True, color = 'skyblue', edgecolor = 'black', alpha = .5, label = 'nonaugmented')\n",
    "plt.rc('text', usetex = True)\n",
    "plt.xlabel('$\\\\beta_0$')\n",
    "plt.ylabel('Density')\n",
    "plt.title('Comparing Posterior Distributions for Intercept of Linear Regression Model')\n",
    "plt.legend()\n",
    "plt.show()\n",
    "\n",
    "plt.hist(augmentedSigmaSqPosterior, bins = 30, density = True, color = 'red', edgecolor = 'black', alpha = .5, label = 'augmented')\n",
    "nonAugmentedSigmaSqPosterior = nonAugmentedPosteriorApprox[:, -1]\n",
    "plt.hist(nonAugmentedSigmaSqPosterior, bins = 30, density = True, color = 'skyblue', edgecolor = 'black', alpha = .5, label = 'nonaugmented')\n",
    "plt.rc('text', usetex = True)\n",
    "plt.xlabel('$\\\\sigma^2$')\n",
    "plt.ylabel('Density')\n",
    "plt.title('Comparing Posterior Distributions for Error Variance of Linear Regression Model')\n",
    "plt.legend()\n",
    "plt.show()"
   ]
  }
 ],
 "metadata": {
  "kernelspec": {
   "display_name": "Python 3",
   "language": "python",
   "name": "python3"
  },
  "language_info": {
   "codemirror_mode": {
    "name": "ipython",
    "version": 3
   },
   "file_extension": ".py",
   "mimetype": "text/x-python",
   "name": "python",
   "nbconvert_exporter": "python",
   "pygments_lexer": "ipython3",
   "version": "3.8.8"
  },
  "orig_nbformat": 4,
  "vscode": {
   "interpreter": {
    "hash": "aee8b7b246df8f9039afb4144a1f6fd8d2ca17a180786b69acc140d282b71a49"
   }
  }
 },
 "nbformat": 4,
 "nbformat_minor": 2
}
